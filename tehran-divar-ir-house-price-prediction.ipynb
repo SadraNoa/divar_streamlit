{
 "cells": [
  {
   "cell_type": "markdown",
   "id": "ea69eb4f",
   "metadata": {
    "papermill": {
     "duration": 0.017298,
     "end_time": "2022-08-10T05:50:54.850780",
     "exception": false,
     "start_time": "2022-08-10T05:50:54.833482",
     "status": "completed"
    },
    "tags": []
   },
   "source": [
    "## Importing the libraries"
   ]
  },
  {
   "cell_type": "code",
   "execution_count": 53,
   "id": "dfce3c30",
   "metadata": {
    "execution": {
     "iopub.execute_input": "2022-08-10T05:50:54.955060Z",
     "iopub.status.busy": "2022-08-10T05:50:54.954350Z",
     "iopub.status.idle": "2022-08-10T05:50:56.614572Z",
     "shell.execute_reply": "2022-08-10T05:50:56.613468Z"
    },
    "papermill": {
     "duration": 1.687424,
     "end_time": "2022-08-10T05:50:56.617565",
     "exception": false,
     "start_time": "2022-08-10T05:50:54.930141",
     "status": "completed"
    },
    "tags": []
   },
   "outputs": [],
   "source": [
    "%matplotlib inline\n",
    "import numpy as np\n",
    "import pandas as pd\n",
    "import matplotlib.pyplot as plt\n",
    "import seaborn as sns\n",
    "import re\n",
    "import time\n",
    "\n",
    "from sklearn.model_selection import train_test_split\n",
    "from sklearn.model_selection import cross_val_score, KFold\n",
    "from sklearn.metrics import mean_squared_error\n",
    "from sklearn.metrics import mean_absolute_error\n",
    "from sklearn.metrics import r2_score\n",
    "\n",
    "from sklearn.ensemble import RandomForestRegressor\n",
    "from sklearn.linear_model import  ElasticNet, Lasso, LinearRegression, Ridge\n",
    "from sklearn.neighbors import KNeighborsRegressor\n",
    "from sklearn.metrics import mean_squared_error\n",
    "from sklearn.model_selection import GridSearchCV\n",
    "from sklearn.tree import DecisionTreeRegressor\n",
    "from xgboost import XGBRegressor\n",
    "from sklearn.preprocessing import StandardScaler,LabelEncoder\n",
    "from sklearn.preprocessing import OneHotEncoder\n",
    "from sklearn.pipeline import Pipeline\n",
    "\n",
    "\n",
    "import joblib\n",
    "\n",
    "import warnings\n",
    "warnings.filterwarnings('ignore')"
   ]
  },
  {
   "cell_type": "code",
   "execution_count": 2,
   "id": "66fba2f4",
   "metadata": {
    "execution": {
     "iopub.execute_input": "2022-08-10T05:50:56.688602Z",
     "iopub.status.busy": "2022-08-10T05:50:56.687770Z",
     "iopub.status.idle": "2022-08-10T05:50:56.751417Z",
     "shell.execute_reply": "2022-08-10T05:50:56.749987Z"
    },
    "papermill": {
     "duration": 0.086474,
     "end_time": "2022-08-10T05:50:56.754958",
     "exception": false,
     "start_time": "2022-08-10T05:50:56.668484",
     "status": "completed"
    },
    "scrolled": true,
    "tags": []
   },
   "outputs": [
    {
     "data": {
      "text/html": [
       "<div>\n",
       "<style scoped>\n",
       "    .dataframe tbody tr th:only-of-type {\n",
       "        vertical-align: middle;\n",
       "    }\n",
       "\n",
       "    .dataframe tbody tr th {\n",
       "        vertical-align: top;\n",
       "    }\n",
       "\n",
       "    .dataframe thead th {\n",
       "        text-align: right;\n",
       "    }\n",
       "</style>\n",
       "<table border=\"1\" class=\"dataframe\">\n",
       "  <thead>\n",
       "    <tr style=\"text-align: right;\">\n",
       "      <th></th>\n",
       "      <th>Area</th>\n",
       "      <th>Room</th>\n",
       "      <th>Parking</th>\n",
       "      <th>Warehouse</th>\n",
       "      <th>Elevator</th>\n",
       "      <th>Address</th>\n",
       "      <th>Price</th>\n",
       "      <th>Price(USD)</th>\n",
       "    </tr>\n",
       "  </thead>\n",
       "  <tbody>\n",
       "    <tr>\n",
       "      <th>0</th>\n",
       "      <td>63</td>\n",
       "      <td>1</td>\n",
       "      <td>True</td>\n",
       "      <td>True</td>\n",
       "      <td>True</td>\n",
       "      <td>Shahran</td>\n",
       "      <td>1850000000</td>\n",
       "      <td>61666.67</td>\n",
       "    </tr>\n",
       "    <tr>\n",
       "      <th>1</th>\n",
       "      <td>60</td>\n",
       "      <td>1</td>\n",
       "      <td>True</td>\n",
       "      <td>True</td>\n",
       "      <td>True</td>\n",
       "      <td>Shahran</td>\n",
       "      <td>1850000000</td>\n",
       "      <td>61666.67</td>\n",
       "    </tr>\n",
       "    <tr>\n",
       "      <th>2</th>\n",
       "      <td>79</td>\n",
       "      <td>2</td>\n",
       "      <td>True</td>\n",
       "      <td>True</td>\n",
       "      <td>True</td>\n",
       "      <td>Pardis</td>\n",
       "      <td>550000000</td>\n",
       "      <td>18333.33</td>\n",
       "    </tr>\n",
       "    <tr>\n",
       "      <th>3</th>\n",
       "      <td>95</td>\n",
       "      <td>2</td>\n",
       "      <td>True</td>\n",
       "      <td>True</td>\n",
       "      <td>True</td>\n",
       "      <td>Shahrake Qods</td>\n",
       "      <td>902500000</td>\n",
       "      <td>30083.33</td>\n",
       "    </tr>\n",
       "    <tr>\n",
       "      <th>4</th>\n",
       "      <td>123</td>\n",
       "      <td>2</td>\n",
       "      <td>True</td>\n",
       "      <td>True</td>\n",
       "      <td>True</td>\n",
       "      <td>Shahrake Gharb</td>\n",
       "      <td>7000000000</td>\n",
       "      <td>233333.33</td>\n",
       "    </tr>\n",
       "  </tbody>\n",
       "</table>\n",
       "</div>"
      ],
      "text/plain": [
       "  Area  Room  Parking  Warehouse  Elevator         Address       Price  \\\n",
       "0   63     1     True       True      True         Shahran  1850000000   \n",
       "1   60     1     True       True      True         Shahran  1850000000   \n",
       "2   79     2     True       True      True          Pardis   550000000   \n",
       "3   95     2     True       True      True   Shahrake Qods   902500000   \n",
       "4  123     2     True       True      True  Shahrake Gharb  7000000000   \n",
       "\n",
       "   Price(USD)  \n",
       "0    61666.67  \n",
       "1    61666.67  \n",
       "2    18333.33  \n",
       "3    30083.33  \n",
       "4   233333.33  "
      ]
     },
     "execution_count": 2,
     "metadata": {},
     "output_type": "execute_result"
    }
   ],
   "source": [
    "df = pd.read_csv(\"C:\\house.csv\")\n",
    "df.head()"
   ]
  },
  {
   "cell_type": "code",
   "execution_count": 3,
   "id": "d63d38f9",
   "metadata": {
    "execution": {
     "iopub.execute_input": "2022-08-10T05:50:56.793590Z",
     "iopub.status.busy": "2022-08-10T05:50:56.792702Z",
     "iopub.status.idle": "2022-08-10T05:50:56.815749Z",
     "shell.execute_reply": "2022-08-10T05:50:56.814139Z"
    },
    "papermill": {
     "duration": 0.045649,
     "end_time": "2022-08-10T05:50:56.818571",
     "exception": false,
     "start_time": "2022-08-10T05:50:56.772922",
     "status": "completed"
    },
    "tags": []
   },
   "outputs": [
    {
     "data": {
      "text/html": [
       "<div>\n",
       "<style scoped>\n",
       "    .dataframe tbody tr th:only-of-type {\n",
       "        vertical-align: middle;\n",
       "    }\n",
       "\n",
       "    .dataframe tbody tr th {\n",
       "        vertical-align: top;\n",
       "    }\n",
       "\n",
       "    .dataframe thead th {\n",
       "        text-align: right;\n",
       "    }\n",
       "</style>\n",
       "<table border=\"1\" class=\"dataframe\">\n",
       "  <thead>\n",
       "    <tr style=\"text-align: right;\">\n",
       "      <th></th>\n",
       "      <th>Area</th>\n",
       "      <th>Room</th>\n",
       "      <th>Parking</th>\n",
       "      <th>Warehouse</th>\n",
       "      <th>Elevator</th>\n",
       "      <th>Address</th>\n",
       "      <th>Price</th>\n",
       "      <th>Price(USD)</th>\n",
       "    </tr>\n",
       "  </thead>\n",
       "  <tbody>\n",
       "    <tr>\n",
       "      <th>130</th>\n",
       "      <td>44</td>\n",
       "      <td>1</td>\n",
       "      <td>True</td>\n",
       "      <td>True</td>\n",
       "      <td>False</td>\n",
       "      <td>Salsabil</td>\n",
       "      <td>1050000000</td>\n",
       "      <td>35000.0</td>\n",
       "    </tr>\n",
       "    <tr>\n",
       "      <th>2362</th>\n",
       "      <td>198</td>\n",
       "      <td>3</td>\n",
       "      <td>True</td>\n",
       "      <td>True</td>\n",
       "      <td>True</td>\n",
       "      <td>Ekhtiarieh</td>\n",
       "      <td>18000000000</td>\n",
       "      <td>600000.0</td>\n",
       "    </tr>\n",
       "    <tr>\n",
       "      <th>1798</th>\n",
       "      <td>179</td>\n",
       "      <td>3</td>\n",
       "      <td>True</td>\n",
       "      <td>True</td>\n",
       "      <td>True</td>\n",
       "      <td>Velenjak</td>\n",
       "      <td>8055000000</td>\n",
       "      <td>268500.0</td>\n",
       "    </tr>\n",
       "    <tr>\n",
       "      <th>1902</th>\n",
       "      <td>60</td>\n",
       "      <td>1</td>\n",
       "      <td>True</td>\n",
       "      <td>True</td>\n",
       "      <td>False</td>\n",
       "      <td>Central Janatabad</td>\n",
       "      <td>2190000000</td>\n",
       "      <td>73000.0</td>\n",
       "    </tr>\n",
       "    <tr>\n",
       "      <th>166</th>\n",
       "      <td>117</td>\n",
       "      <td>2</td>\n",
       "      <td>True</td>\n",
       "      <td>True</td>\n",
       "      <td>True</td>\n",
       "      <td>Islamshahr</td>\n",
       "      <td>1579500000</td>\n",
       "      <td>52650.0</td>\n",
       "    </tr>\n",
       "  </tbody>\n",
       "</table>\n",
       "</div>"
      ],
      "text/plain": [
       "     Area  Room  Parking  Warehouse  Elevator            Address        Price  \\\n",
       "130    44     1     True       True     False           Salsabil   1050000000   \n",
       "2362  198     3     True       True      True         Ekhtiarieh  18000000000   \n",
       "1798  179     3     True       True      True           Velenjak   8055000000   \n",
       "1902   60     1     True       True     False  Central Janatabad   2190000000   \n",
       "166   117     2     True       True      True         Islamshahr   1579500000   \n",
       "\n",
       "      Price(USD)  \n",
       "130      35000.0  \n",
       "2362    600000.0  \n",
       "1798    268500.0  \n",
       "1902     73000.0  \n",
       "166      52650.0  "
      ]
     },
     "execution_count": 3,
     "metadata": {},
     "output_type": "execute_result"
    }
   ],
   "source": [
    "df.sample(5)"
   ]
  },
  {
   "cell_type": "code",
   "execution_count": 4,
   "id": "323bb81e",
   "metadata": {
    "execution": {
     "iopub.execute_input": "2022-08-10T05:50:56.860336Z",
     "iopub.status.busy": "2022-08-10T05:50:56.858672Z",
     "iopub.status.idle": "2022-08-10T05:50:56.869837Z",
     "shell.execute_reply": "2022-08-10T05:50:56.868028Z"
    },
    "papermill": {
     "duration": 0.036289,
     "end_time": "2022-08-10T05:50:56.873266",
     "exception": false,
     "start_time": "2022-08-10T05:50:56.836977",
     "status": "completed"
    },
    "tags": []
   },
   "outputs": [
    {
     "data": {
      "text/plain": [
       "pandas.core.frame.DataFrame"
      ]
     },
     "execution_count": 4,
     "metadata": {},
     "output_type": "execute_result"
    }
   ],
   "source": [
    "type(df)"
   ]
  },
  {
   "cell_type": "markdown",
   "id": "35b7084a",
   "metadata": {
    "papermill": {
     "duration": 0.024952,
     "end_time": "2022-08-10T05:50:56.920302",
     "exception": false,
     "start_time": "2022-08-10T05:50:56.895350",
     "status": "completed"
    },
    "tags": []
   },
   "source": [
    "# Do somethe data (EDA)"
   ]
  },
  {
   "cell_type": "code",
   "execution_count": 5,
   "id": "a27c0ceb",
   "metadata": {
    "execution": {
     "iopub.execute_input": "2022-08-10T05:50:56.979962Z",
     "iopub.status.busy": "2022-08-10T05:50:56.978885Z",
     "iopub.status.idle": "2022-08-10T05:50:56.989548Z",
     "shell.execute_reply": "2022-08-10T05:50:56.987243Z"
    },
    "papermill": {
     "duration": 0.042136,
     "end_time": "2022-08-10T05:50:56.993764",
     "exception": false,
     "start_time": "2022-08-10T05:50:56.951628",
     "status": "completed"
    },
    "tags": []
   },
   "outputs": [
    {
     "data": {
      "text/plain": [
       "Index(['Area', 'Room', 'Parking', 'Warehouse', 'Elevator', 'Address', 'Price',\n",
       "       'Price(USD)'],\n",
       "      dtype='object')"
      ]
     },
     "execution_count": 5,
     "metadata": {},
     "output_type": "execute_result"
    }
   ],
   "source": [
    "df.columns"
   ]
  },
  {
   "cell_type": "code",
   "execution_count": 6,
   "id": "1e6c33dc",
   "metadata": {
    "execution": {
     "iopub.execute_input": "2022-08-10T05:50:57.033624Z",
     "iopub.status.busy": "2022-08-10T05:50:57.033133Z",
     "iopub.status.idle": "2022-08-10T05:50:57.059550Z",
     "shell.execute_reply": "2022-08-10T05:50:57.058228Z"
    },
    "papermill": {
     "duration": 0.048619,
     "end_time": "2022-08-10T05:50:57.062069",
     "exception": false,
     "start_time": "2022-08-10T05:50:57.013450",
     "status": "completed"
    },
    "tags": []
   },
   "outputs": [
    {
     "name": "stdout",
     "output_type": "stream",
     "text": [
      "<class 'pandas.core.frame.DataFrame'>\n",
      "RangeIndex: 3479 entries, 0 to 3478\n",
      "Data columns (total 8 columns):\n",
      " #   Column      Non-Null Count  Dtype  \n",
      "---  ------      --------------  -----  \n",
      " 0   Area        3479 non-null   object \n",
      " 1   Room        3479 non-null   int64  \n",
      " 2   Parking     3479 non-null   bool   \n",
      " 3   Warehouse   3479 non-null   bool   \n",
      " 4   Elevator    3479 non-null   bool   \n",
      " 5   Address     3456 non-null   object \n",
      " 6   Price       3479 non-null   int64  \n",
      " 7   Price(USD)  3479 non-null   float64\n",
      "dtypes: bool(3), float64(1), int64(2), object(2)\n",
      "memory usage: 146.2+ KB\n"
     ]
    }
   ],
   "source": [
    "df.info()"
   ]
  },
  {
   "cell_type": "code",
   "execution_count": 7,
   "id": "54e53093",
   "metadata": {
    "execution": {
     "iopub.execute_input": "2022-08-10T05:50:57.101049Z",
     "iopub.status.busy": "2022-08-10T05:50:57.100043Z",
     "iopub.status.idle": "2022-08-10T05:50:57.126236Z",
     "shell.execute_reply": "2022-08-10T05:50:57.124773Z"
    },
    "papermill": {
     "duration": 0.048505,
     "end_time": "2022-08-10T05:50:57.129098",
     "exception": false,
     "start_time": "2022-08-10T05:50:57.080593",
     "status": "completed"
    },
    "tags": []
   },
   "outputs": [
    {
     "data": {
      "text/html": [
       "<div>\n",
       "<style scoped>\n",
       "    .dataframe tbody tr th:only-of-type {\n",
       "        vertical-align: middle;\n",
       "    }\n",
       "\n",
       "    .dataframe tbody tr th {\n",
       "        vertical-align: top;\n",
       "    }\n",
       "\n",
       "    .dataframe thead th {\n",
       "        text-align: right;\n",
       "    }\n",
       "</style>\n",
       "<table border=\"1\" class=\"dataframe\">\n",
       "  <thead>\n",
       "    <tr style=\"text-align: right;\">\n",
       "      <th></th>\n",
       "      <th>Room</th>\n",
       "      <th>Price</th>\n",
       "      <th>Price(USD)</th>\n",
       "    </tr>\n",
       "  </thead>\n",
       "  <tbody>\n",
       "    <tr>\n",
       "      <th>count</th>\n",
       "      <td>3479.000000</td>\n",
       "      <td>3.479000e+03</td>\n",
       "      <td>3.479000e+03</td>\n",
       "    </tr>\n",
       "    <tr>\n",
       "      <th>mean</th>\n",
       "      <td>2.079908</td>\n",
       "      <td>5.359023e+09</td>\n",
       "      <td>1.786341e+05</td>\n",
       "    </tr>\n",
       "    <tr>\n",
       "      <th>std</th>\n",
       "      <td>0.758275</td>\n",
       "      <td>8.099935e+09</td>\n",
       "      <td>2.699978e+05</td>\n",
       "    </tr>\n",
       "    <tr>\n",
       "      <th>min</th>\n",
       "      <td>0.000000</td>\n",
       "      <td>3.600000e+06</td>\n",
       "      <td>1.200000e+02</td>\n",
       "    </tr>\n",
       "    <tr>\n",
       "      <th>25%</th>\n",
       "      <td>2.000000</td>\n",
       "      <td>1.418250e+09</td>\n",
       "      <td>4.727500e+04</td>\n",
       "    </tr>\n",
       "    <tr>\n",
       "      <th>50%</th>\n",
       "      <td>2.000000</td>\n",
       "      <td>2.900000e+09</td>\n",
       "      <td>9.666667e+04</td>\n",
       "    </tr>\n",
       "    <tr>\n",
       "      <th>75%</th>\n",
       "      <td>2.000000</td>\n",
       "      <td>6.000000e+09</td>\n",
       "      <td>2.000000e+05</td>\n",
       "    </tr>\n",
       "    <tr>\n",
       "      <th>max</th>\n",
       "      <td>5.000000</td>\n",
       "      <td>9.240000e+10</td>\n",
       "      <td>3.080000e+06</td>\n",
       "    </tr>\n",
       "  </tbody>\n",
       "</table>\n",
       "</div>"
      ],
      "text/plain": [
       "              Room         Price    Price(USD)\n",
       "count  3479.000000  3.479000e+03  3.479000e+03\n",
       "mean      2.079908  5.359023e+09  1.786341e+05\n",
       "std       0.758275  8.099935e+09  2.699978e+05\n",
       "min       0.000000  3.600000e+06  1.200000e+02\n",
       "25%       2.000000  1.418250e+09  4.727500e+04\n",
       "50%       2.000000  2.900000e+09  9.666667e+04\n",
       "75%       2.000000  6.000000e+09  2.000000e+05\n",
       "max       5.000000  9.240000e+10  3.080000e+06"
      ]
     },
     "execution_count": 7,
     "metadata": {},
     "output_type": "execute_result"
    }
   ],
   "source": [
    "df.describe()"
   ]
  },
  {
   "cell_type": "code",
   "execution_count": 8,
   "id": "b03fc0c0",
   "metadata": {
    "execution": {
     "iopub.execute_input": "2022-08-10T05:50:57.167138Z",
     "iopub.status.busy": "2022-08-10T05:50:57.166694Z",
     "iopub.status.idle": "2022-08-10T05:50:57.181068Z",
     "shell.execute_reply": "2022-08-10T05:50:57.179794Z"
    },
    "papermill": {
     "duration": 0.036283,
     "end_time": "2022-08-10T05:50:57.183463",
     "exception": false,
     "start_time": "2022-08-10T05:50:57.147180",
     "status": "completed"
    },
    "tags": []
   },
   "outputs": [],
   "source": [
    "df['Area'] = df['Area'].apply(lambda x: re.sub(',', '', x))\n",
    "df[\"Area\"] = pd.to_numeric(df[\"Area\"] , errors='coerce')"
   ]
  },
  {
   "cell_type": "code",
   "execution_count": 9,
   "id": "764bd179",
   "metadata": {
    "execution": {
     "iopub.execute_input": "2022-08-10T05:50:57.221714Z",
     "iopub.status.busy": "2022-08-10T05:50:57.221063Z",
     "iopub.status.idle": "2022-08-10T05:50:57.236370Z",
     "shell.execute_reply": "2022-08-10T05:50:57.234583Z"
    },
    "papermill": {
     "duration": 0.037496,
     "end_time": "2022-08-10T05:50:57.239208",
     "exception": false,
     "start_time": "2022-08-10T05:50:57.201712",
     "status": "completed"
    },
    "tags": []
   },
   "outputs": [
    {
     "name": "stdout",
     "output_type": "stream",
     "text": [
      "<class 'pandas.core.frame.DataFrame'>\n",
      "RangeIndex: 3479 entries, 0 to 3478\n",
      "Data columns (total 8 columns):\n",
      " #   Column      Non-Null Count  Dtype  \n",
      "---  ------      --------------  -----  \n",
      " 0   Area        3479 non-null   int64  \n",
      " 1   Room        3479 non-null   int64  \n",
      " 2   Parking     3479 non-null   bool   \n",
      " 3   Warehouse   3479 non-null   bool   \n",
      " 4   Elevator    3479 non-null   bool   \n",
      " 5   Address     3456 non-null   object \n",
      " 6   Price       3479 non-null   int64  \n",
      " 7   Price(USD)  3479 non-null   float64\n",
      "dtypes: bool(3), float64(1), int64(3), object(1)\n",
      "memory usage: 146.2+ KB\n"
     ]
    }
   ],
   "source": [
    "df.info()"
   ]
  },
  {
   "cell_type": "code",
   "execution_count": 10,
   "id": "78e82372",
   "metadata": {
    "execution": {
     "iopub.execute_input": "2022-08-10T05:50:57.278078Z",
     "iopub.status.busy": "2022-08-10T05:50:57.277348Z",
     "iopub.status.idle": "2022-08-10T05:50:57.296712Z",
     "shell.execute_reply": "2022-08-10T05:50:57.295584Z"
    },
    "papermill": {
     "duration": 0.041308,
     "end_time": "2022-08-10T05:50:57.298982",
     "exception": false,
     "start_time": "2022-08-10T05:50:57.257674",
     "status": "completed"
    },
    "tags": []
   },
   "outputs": [
    {
     "data": {
      "text/html": [
       "<div>\n",
       "<style scoped>\n",
       "    .dataframe tbody tr th:only-of-type {\n",
       "        vertical-align: middle;\n",
       "    }\n",
       "\n",
       "    .dataframe tbody tr th {\n",
       "        vertical-align: top;\n",
       "    }\n",
       "\n",
       "    .dataframe thead th {\n",
       "        text-align: right;\n",
       "    }\n",
       "</style>\n",
       "<table border=\"1\" class=\"dataframe\">\n",
       "  <thead>\n",
       "    <tr style=\"text-align: right;\">\n",
       "      <th></th>\n",
       "      <th>Area</th>\n",
       "      <th>Room</th>\n",
       "      <th>Parking</th>\n",
       "      <th>Warehouse</th>\n",
       "      <th>Elevator</th>\n",
       "      <th>Address</th>\n",
       "      <th>Price</th>\n",
       "      <th>Price(USD)</th>\n",
       "    </tr>\n",
       "  </thead>\n",
       "  <tbody>\n",
       "    <tr>\n",
       "      <th>0</th>\n",
       "      <td>63</td>\n",
       "      <td>1</td>\n",
       "      <td>True</td>\n",
       "      <td>True</td>\n",
       "      <td>True</td>\n",
       "      <td>Shahran</td>\n",
       "      <td>1850000000</td>\n",
       "      <td>61666.67</td>\n",
       "    </tr>\n",
       "    <tr>\n",
       "      <th>1</th>\n",
       "      <td>60</td>\n",
       "      <td>1</td>\n",
       "      <td>True</td>\n",
       "      <td>True</td>\n",
       "      <td>True</td>\n",
       "      <td>Shahran</td>\n",
       "      <td>1850000000</td>\n",
       "      <td>61666.67</td>\n",
       "    </tr>\n",
       "    <tr>\n",
       "      <th>2</th>\n",
       "      <td>79</td>\n",
       "      <td>2</td>\n",
       "      <td>True</td>\n",
       "      <td>True</td>\n",
       "      <td>True</td>\n",
       "      <td>Pardis</td>\n",
       "      <td>550000000</td>\n",
       "      <td>18333.33</td>\n",
       "    </tr>\n",
       "    <tr>\n",
       "      <th>3</th>\n",
       "      <td>95</td>\n",
       "      <td>2</td>\n",
       "      <td>True</td>\n",
       "      <td>True</td>\n",
       "      <td>True</td>\n",
       "      <td>Shahrake Qods</td>\n",
       "      <td>902500000</td>\n",
       "      <td>30083.33</td>\n",
       "    </tr>\n",
       "    <tr>\n",
       "      <th>4</th>\n",
       "      <td>123</td>\n",
       "      <td>2</td>\n",
       "      <td>True</td>\n",
       "      <td>True</td>\n",
       "      <td>True</td>\n",
       "      <td>Shahrake Gharb</td>\n",
       "      <td>7000000000</td>\n",
       "      <td>233333.33</td>\n",
       "    </tr>\n",
       "    <tr>\n",
       "      <th>...</th>\n",
       "      <td>...</td>\n",
       "      <td>...</td>\n",
       "      <td>...</td>\n",
       "      <td>...</td>\n",
       "      <td>...</td>\n",
       "      <td>...</td>\n",
       "      <td>...</td>\n",
       "      <td>...</td>\n",
       "    </tr>\n",
       "    <tr>\n",
       "      <th>3474</th>\n",
       "      <td>86</td>\n",
       "      <td>2</td>\n",
       "      <td>True</td>\n",
       "      <td>True</td>\n",
       "      <td>True</td>\n",
       "      <td>Southern Janatabad</td>\n",
       "      <td>3500000000</td>\n",
       "      <td>116666.67</td>\n",
       "    </tr>\n",
       "    <tr>\n",
       "      <th>3475</th>\n",
       "      <td>83</td>\n",
       "      <td>2</td>\n",
       "      <td>True</td>\n",
       "      <td>True</td>\n",
       "      <td>True</td>\n",
       "      <td>Niavaran</td>\n",
       "      <td>6800000000</td>\n",
       "      <td>226666.67</td>\n",
       "    </tr>\n",
       "    <tr>\n",
       "      <th>3476</th>\n",
       "      <td>75</td>\n",
       "      <td>2</td>\n",
       "      <td>False</td>\n",
       "      <td>False</td>\n",
       "      <td>False</td>\n",
       "      <td>Parand</td>\n",
       "      <td>365000000</td>\n",
       "      <td>12166.67</td>\n",
       "    </tr>\n",
       "    <tr>\n",
       "      <th>3477</th>\n",
       "      <td>105</td>\n",
       "      <td>2</td>\n",
       "      <td>True</td>\n",
       "      <td>True</td>\n",
       "      <td>True</td>\n",
       "      <td>Dorous</td>\n",
       "      <td>5600000000</td>\n",
       "      <td>186666.67</td>\n",
       "    </tr>\n",
       "    <tr>\n",
       "      <th>3478</th>\n",
       "      <td>82</td>\n",
       "      <td>2</td>\n",
       "      <td>False</td>\n",
       "      <td>True</td>\n",
       "      <td>True</td>\n",
       "      <td>Parand</td>\n",
       "      <td>360000000</td>\n",
       "      <td>12000.00</td>\n",
       "    </tr>\n",
       "  </tbody>\n",
       "</table>\n",
       "<p>3479 rows × 8 columns</p>\n",
       "</div>"
      ],
      "text/plain": [
       "      Area  Room  Parking  Warehouse  Elevator             Address  \\\n",
       "0       63     1     True       True      True             Shahran   \n",
       "1       60     1     True       True      True             Shahran   \n",
       "2       79     2     True       True      True              Pardis   \n",
       "3       95     2     True       True      True       Shahrake Qods   \n",
       "4      123     2     True       True      True      Shahrake Gharb   \n",
       "...    ...   ...      ...        ...       ...                 ...   \n",
       "3474    86     2     True       True      True  Southern Janatabad   \n",
       "3475    83     2     True       True      True            Niavaran   \n",
       "3476    75     2    False      False     False              Parand   \n",
       "3477   105     2     True       True      True              Dorous   \n",
       "3478    82     2    False       True      True              Parand   \n",
       "\n",
       "           Price  Price(USD)  \n",
       "0     1850000000    61666.67  \n",
       "1     1850000000    61666.67  \n",
       "2      550000000    18333.33  \n",
       "3      902500000    30083.33  \n",
       "4     7000000000   233333.33  \n",
       "...          ...         ...  \n",
       "3474  3500000000   116666.67  \n",
       "3475  6800000000   226666.67  \n",
       "3476   365000000    12166.67  \n",
       "3477  5600000000   186666.67  \n",
       "3478   360000000    12000.00  \n",
       "\n",
       "[3479 rows x 8 columns]"
      ]
     },
     "execution_count": 10,
     "metadata": {},
     "output_type": "execute_result"
    }
   ],
   "source": [
    "df"
   ]
  },
  {
   "cell_type": "code",
   "execution_count": 11,
   "id": "b264b651",
   "metadata": {
    "execution": {
     "iopub.execute_input": "2022-08-10T05:50:57.337912Z",
     "iopub.status.busy": "2022-08-10T05:50:57.337130Z",
     "iopub.status.idle": "2022-08-10T05:50:57.343761Z",
     "shell.execute_reply": "2022-08-10T05:50:57.342743Z"
    },
    "papermill": {
     "duration": 0.028536,
     "end_time": "2022-08-10T05:50:57.345992",
     "exception": false,
     "start_time": "2022-08-10T05:50:57.317456",
     "status": "completed"
    },
    "tags": []
   },
   "outputs": [
    {
     "data": {
      "text/plain": [
       "(3479, 8)"
      ]
     },
     "execution_count": 11,
     "metadata": {},
     "output_type": "execute_result"
    }
   ],
   "source": [
    "df.shape"
   ]
  },
  {
   "cell_type": "code",
   "execution_count": 12,
   "id": "c5c54f74",
   "metadata": {
    "execution": {
     "iopub.execute_input": "2022-08-10T05:50:57.385618Z",
     "iopub.status.busy": "2022-08-10T05:50:57.385142Z",
     "iopub.status.idle": "2022-08-10T05:50:57.391571Z",
     "shell.execute_reply": "2022-08-10T05:50:57.390310Z"
    },
    "papermill": {
     "duration": 0.031099,
     "end_time": "2022-08-10T05:50:57.395749",
     "exception": false,
     "start_time": "2022-08-10T05:50:57.364650",
     "status": "completed"
    },
    "tags": []
   },
   "outputs": [
    {
     "name": "stdout",
     "output_type": "stream",
     "text": [
      "Area            int64\n",
      "Room            int64\n",
      "Parking          bool\n",
      "Warehouse        bool\n",
      "Elevator         bool\n",
      "Address        object\n",
      "Price           int64\n",
      "Price(USD)    float64\n",
      "dtype: object\n"
     ]
    }
   ],
   "source": [
    "print(df.dtypes)"
   ]
  },
  {
   "cell_type": "code",
   "execution_count": 13,
   "id": "e6f869c9",
   "metadata": {
    "execution": {
     "iopub.execute_input": "2022-08-10T05:50:57.436369Z",
     "iopub.status.busy": "2022-08-10T05:50:57.435535Z",
     "iopub.status.idle": "2022-08-10T05:50:57.446614Z",
     "shell.execute_reply": "2022-08-10T05:50:57.445341Z"
    },
    "papermill": {
     "duration": 0.034449,
     "end_time": "2022-08-10T05:50:57.449124",
     "exception": false,
     "start_time": "2022-08-10T05:50:57.414675",
     "status": "completed"
    },
    "tags": []
   },
   "outputs": [
    {
     "data": {
      "text/plain": [
       "Area           0\n",
       "Room           0\n",
       "Parking        0\n",
       "Warehouse      0\n",
       "Elevator       0\n",
       "Address       23\n",
       "Price          0\n",
       "Price(USD)     0\n",
       "dtype: int64"
      ]
     },
     "execution_count": 13,
     "metadata": {},
     "output_type": "execute_result"
    }
   ],
   "source": [
    "df.isnull().sum()"
   ]
  },
  {
   "cell_type": "code",
   "execution_count": 14,
   "id": "daee6385",
   "metadata": {
    "execution": {
     "iopub.execute_input": "2022-08-10T05:50:57.490016Z",
     "iopub.status.busy": "2022-08-10T05:50:57.489289Z",
     "iopub.status.idle": "2022-08-10T05:50:57.497880Z",
     "shell.execute_reply": "2022-08-10T05:50:57.496825Z"
    },
    "papermill": {
     "duration": 0.032331,
     "end_time": "2022-08-10T05:50:57.500709",
     "exception": false,
     "start_time": "2022-08-10T05:50:57.468378",
     "status": "completed"
    },
    "tags": []
   },
   "outputs": [],
   "source": [
    "df.dropna(inplace=True)"
   ]
  },
  {
   "cell_type": "code",
   "execution_count": 15,
   "id": "dbcfed44",
   "metadata": {
    "execution": {
     "iopub.execute_input": "2022-08-10T05:50:57.541272Z",
     "iopub.status.busy": "2022-08-10T05:50:57.540621Z",
     "iopub.status.idle": "2022-08-10T05:50:57.547194Z",
     "shell.execute_reply": "2022-08-10T05:50:57.545986Z"
    },
    "papermill": {
     "duration": 0.029328,
     "end_time": "2022-08-10T05:50:57.549479",
     "exception": false,
     "start_time": "2022-08-10T05:50:57.520151",
     "status": "completed"
    },
    "tags": []
   },
   "outputs": [
    {
     "data": {
      "text/plain": [
       "(3456, 8)"
      ]
     },
     "execution_count": 15,
     "metadata": {},
     "output_type": "execute_result"
    }
   ],
   "source": [
    "df.shape"
   ]
  },
  {
   "cell_type": "code",
   "execution_count": 16,
   "id": "bba02fb6",
   "metadata": {
    "execution": {
     "iopub.execute_input": "2022-08-10T05:50:57.589767Z",
     "iopub.status.busy": "2022-08-10T05:50:57.589057Z",
     "iopub.status.idle": "2022-08-10T05:50:57.597964Z",
     "shell.execute_reply": "2022-08-10T05:50:57.596888Z"
    },
    "papermill": {
     "duration": 0.031618,
     "end_time": "2022-08-10T05:50:57.600214",
     "exception": false,
     "start_time": "2022-08-10T05:50:57.568596",
     "status": "completed"
    },
    "tags": []
   },
   "outputs": [
    {
     "data": {
      "text/plain": [
       "True     84.751157\n",
       "False    15.248843\n",
       "Name: Parking, dtype: float64"
      ]
     },
     "execution_count": 16,
     "metadata": {},
     "output_type": "execute_result"
    }
   ],
   "source": [
    "df['Parking'].value_counts(normalize=True)*100"
   ]
  },
  {
   "cell_type": "code",
   "execution_count": 17,
   "id": "acefd2c9",
   "metadata": {
    "execution": {
     "iopub.execute_input": "2022-08-10T05:50:57.640066Z",
     "iopub.status.busy": "2022-08-10T05:50:57.639457Z",
     "iopub.status.idle": "2022-08-10T05:50:57.667955Z",
     "shell.execute_reply": "2022-08-10T05:50:57.666982Z"
    },
    "papermill": {
     "duration": 0.051214,
     "end_time": "2022-08-10T05:50:57.670183",
     "exception": false,
     "start_time": "2022-08-10T05:50:57.618969",
     "status": "completed"
    },
    "tags": []
   },
   "outputs": [
    {
     "data": {
      "text/html": [
       "<div>\n",
       "<style scoped>\n",
       "    .dataframe tbody tr th:only-of-type {\n",
       "        vertical-align: middle;\n",
       "    }\n",
       "\n",
       "    .dataframe tbody tr th {\n",
       "        vertical-align: top;\n",
       "    }\n",
       "\n",
       "    .dataframe thead th {\n",
       "        text-align: right;\n",
       "    }\n",
       "</style>\n",
       "<table border=\"1\" class=\"dataframe\">\n",
       "  <thead>\n",
       "    <tr style=\"text-align: right;\">\n",
       "      <th>Room</th>\n",
       "      <th>0</th>\n",
       "      <th>1</th>\n",
       "      <th>2</th>\n",
       "      <th>3</th>\n",
       "      <th>4</th>\n",
       "      <th>5</th>\n",
       "    </tr>\n",
       "    <tr>\n",
       "      <th>Parking</th>\n",
       "      <th></th>\n",
       "      <th></th>\n",
       "      <th></th>\n",
       "      <th></th>\n",
       "      <th></th>\n",
       "      <th></th>\n",
       "    </tr>\n",
       "  </thead>\n",
       "  <tbody>\n",
       "    <tr>\n",
       "      <th>False</th>\n",
       "      <td>8</td>\n",
       "      <td>243</td>\n",
       "      <td>244</td>\n",
       "      <td>26</td>\n",
       "      <td>1</td>\n",
       "      <td>5</td>\n",
       "    </tr>\n",
       "    <tr>\n",
       "      <th>True</th>\n",
       "      <td>2</td>\n",
       "      <td>426</td>\n",
       "      <td>1699</td>\n",
       "      <td>705</td>\n",
       "      <td>69</td>\n",
       "      <td>28</td>\n",
       "    </tr>\n",
       "  </tbody>\n",
       "</table>\n",
       "</div>"
      ],
      "text/plain": [
       "Room     0    1     2    3   4   5\n",
       "Parking                           \n",
       "False    8  243   244   26   1   5\n",
       "True     2  426  1699  705  69  28"
      ]
     },
     "execution_count": 17,
     "metadata": {},
     "output_type": "execute_result"
    }
   ],
   "source": [
    "pd.crosstab( df.Parking, df.Room )"
   ]
  },
  {
   "cell_type": "code",
   "execution_count": 18,
   "id": "add7360d",
   "metadata": {
    "execution": {
     "iopub.execute_input": "2022-08-10T05:50:57.710882Z",
     "iopub.status.busy": "2022-08-10T05:50:57.710207Z",
     "iopub.status.idle": "2022-08-10T05:50:57.717776Z",
     "shell.execute_reply": "2022-08-10T05:50:57.716642Z"
    },
    "papermill": {
     "duration": 0.030515,
     "end_time": "2022-08-10T05:50:57.720019",
     "exception": false,
     "start_time": "2022-08-10T05:50:57.689504",
     "status": "completed"
    },
    "tags": []
   },
   "outputs": [
    {
     "data": {
      "text/plain": [
       "1522"
      ]
     },
     "execution_count": 18,
     "metadata": {},
     "output_type": "execute_result"
    }
   ],
   "source": [
    "below_85 = df[ df.Area <= 85 ]\n",
    "len(below_85)"
   ]
  },
  {
   "cell_type": "code",
   "execution_count": 19,
   "id": "580e6062",
   "metadata": {
    "execution": {
     "iopub.execute_input": "2022-08-10T05:50:57.761274Z",
     "iopub.status.busy": "2022-08-10T05:50:57.760499Z",
     "iopub.status.idle": "2022-08-10T05:50:57.769657Z",
     "shell.execute_reply": "2022-08-10T05:50:57.768543Z"
    },
    "papermill": {
     "duration": 0.032817,
     "end_time": "2022-08-10T05:50:57.771916",
     "exception": false,
     "start_time": "2022-08-10T05:50:57.739099",
     "status": "completed"
    },
    "tags": []
   },
   "outputs": [
    {
     "data": {
      "text/plain": [
       "True     1104\n",
       "False     418\n",
       "Name: Parking, dtype: int64"
      ]
     },
     "execution_count": 19,
     "metadata": {},
     "output_type": "execute_result"
    }
   ],
   "source": [
    "df[ df.Area <= 85 ][\"Parking\"].value_counts( )"
   ]
  },
  {
   "cell_type": "code",
   "execution_count": 20,
   "id": "714d19e9",
   "metadata": {
    "execution": {
     "iopub.execute_input": "2022-08-10T05:50:57.814045Z",
     "iopub.status.busy": "2022-08-10T05:50:57.813356Z",
     "iopub.status.idle": "2022-08-10T05:50:57.821024Z",
     "shell.execute_reply": "2022-08-10T05:50:57.820181Z"
    },
    "papermill": {
     "duration": 0.031557,
     "end_time": "2022-08-10T05:50:57.823454",
     "exception": false,
     "start_time": "2022-08-10T05:50:57.791897",
     "status": "completed"
    },
    "scrolled": true,
    "tags": []
   },
   "outputs": [
    {
     "data": {
      "text/plain": [
       "array(['Shahran', 'Pardis', 'Shahrake Qods', 'Shahrake Gharb',\n",
       "       'North Program Organization', 'Andisheh', 'West Ferdows Boulevard',\n",
       "       'Narmak', 'Saadat Abad', 'Zafar', 'Islamshahr', 'Pirouzi',\n",
       "       'Shahrake Shahid Bagheri', 'Moniriyeh', 'Velenjak', 'Amirieh',\n",
       "       'Southern Janatabad', 'Salsabil', 'Zargandeh', 'Feiz Garden',\n",
       "       'Water Organization', 'ShahrAra', 'Gisha', 'Ray', 'Abbasabad',\n",
       "       'Ostad Moein', 'Farmanieh', 'Parand', 'Punak', 'Qasr-od-Dasht',\n",
       "       'Aqdasieh', 'Pakdasht', 'Railway', 'Central Janatabad',\n",
       "       'East Ferdows Boulevard', 'Pakdasht KhatunAbad', 'Sattarkhan',\n",
       "       'Baghestan', 'Shahryar', 'Northern Janatabad', 'Daryan No',\n",
       "       'Southern Program Organization', 'Rudhen', 'West Pars', 'Afsarieh',\n",
       "       'Marzdaran', 'Dorous', 'Sadeghieh', 'Chahardangeh', 'Baqershahr',\n",
       "       'Jeyhoon', 'Lavizan', 'Shams Abad', 'Fatemi',\n",
       "       'Keshavarz Boulevard', 'Kahrizak', 'Qarchak',\n",
       "       'Northren Jamalzadeh', 'Azarbaijan', 'Bahar',\n",
       "       'Persian Gulf Martyrs Lake', 'Beryanak', 'Heshmatieh',\n",
       "       'Elm-o-Sanat', 'Golestan', 'Shahr-e-Ziba', 'Pasdaran',\n",
       "       'Chardivari', 'Gheitarieh', 'Kamranieh', 'Gholhak', 'Heravi',\n",
       "       'Hashemi', 'Dehkade Olampic', 'Damavand', 'Republic', 'Zaferanieh',\n",
       "       'Qazvin Imamzadeh Hassan', 'Niavaran', 'Valiasr', 'Qalandari',\n",
       "       'Amir Bahador', 'Ekhtiarieh', 'Ekbatan', 'Absard', 'Haft Tir',\n",
       "       'Mahallati', 'Ozgol', 'Tajrish', 'Abazar', 'Koohsar', 'Hekmat',\n",
       "       'Parastar', 'Lavasan', 'Majidieh', 'Southern Chitgar', 'Karimkhan',\n",
       "       'Si Metri Ji', 'Karoon', 'Northern Chitgar', 'East Pars', 'Kook',\n",
       "       'Air force', 'Sohanak', 'Komeil', 'Azadshahr', 'Zibadasht',\n",
       "       'Amirabad', 'Dezashib', 'Elahieh', 'Mirdamad', 'Razi', 'Jordan',\n",
       "       'Mahmoudieh', 'Shahedshahr', 'Yaftabad', 'Mehran', 'Nasim Shahr',\n",
       "       'Tenant', 'Chardangeh', 'Fallah', 'Eskandari', 'Shahrakeh Naft',\n",
       "       'Ajudaniye', 'Tehransar', 'Nawab', 'Yousef Abad',\n",
       "       'Northern Suhrawardi', 'Villa', 'Hakimiyeh', 'Nezamabad',\n",
       "       'Garden of Saba', 'Tarasht', 'Azari', 'Shahrake Apadana', 'Araj',\n",
       "       'Vahidieh', 'Malard', 'Shahrake Azadi', 'Darband', 'Vanak',\n",
       "       'Tehran Now', 'Darabad', 'Eram', 'Atabak', 'Sabalan', 'SabaShahr',\n",
       "       'Shahrake Madaen', 'Waterfall', 'Ahang', 'Salehabad', 'Pishva',\n",
       "       'Enghelab', 'Islamshahr Elahieh', 'Ray - Montazeri',\n",
       "       'Firoozkooh Kuhsar', 'Ghoba', 'Mehrabad', 'Southern Suhrawardi',\n",
       "       'Abuzar', 'Dolatabad', 'Hor Square', 'Taslihat', 'Kazemabad',\n",
       "       'Robat Karim', 'Ray - Pilgosh', 'Ghiyamdasht', 'Telecommunication',\n",
       "       'Mirza Shirazi', 'Gandhi', 'Argentina', 'Seyed Khandan',\n",
       "       'Shahrake Quds', 'Safadasht', 'Khademabad Garden', 'Hassan Abad',\n",
       "       'Chidz', 'Khavaran', 'Boloorsazi', 'Mehrabad River River',\n",
       "       'Varamin - Beheshti', 'Shoosh', 'Thirteen November', 'Darakeh',\n",
       "       'Aliabad South', 'Alborz Complex', 'Firoozkooh', 'Vahidiyeh',\n",
       "       'Shadabad', 'Naziabad', 'Javadiyeh', 'Yakhchiabad'], dtype=object)"
      ]
     },
     "execution_count": 20,
     "metadata": {},
     "output_type": "execute_result"
    }
   ],
   "source": [
    "df.Address.unique()"
   ]
  },
  {
   "cell_type": "code",
   "execution_count": 21,
   "id": "be2b60a5",
   "metadata": {
    "execution": {
     "iopub.execute_input": "2022-08-10T05:50:57.866571Z",
     "iopub.status.busy": "2022-08-10T05:50:57.866108Z",
     "iopub.status.idle": "2022-08-10T05:50:57.874467Z",
     "shell.execute_reply": "2022-08-10T05:50:57.873207Z"
    },
    "papermill": {
     "duration": 0.033113,
     "end_time": "2022-08-10T05:50:57.876930",
     "exception": false,
     "start_time": "2022-08-10T05:50:57.843817",
     "status": "completed"
    },
    "tags": []
   },
   "outputs": [
    {
     "data": {
      "text/plain": [
       "192"
      ]
     },
     "execution_count": 21,
     "metadata": {},
     "output_type": "execute_result"
    }
   ],
   "source": [
    "len(df.Address.unique())"
   ]
  },
  {
   "cell_type": "code",
   "execution_count": 22,
   "id": "db2c9397",
   "metadata": {
    "execution": {
     "iopub.execute_input": "2022-08-10T05:50:57.918862Z",
     "iopub.status.busy": "2022-08-10T05:50:57.918443Z",
     "iopub.status.idle": "2022-08-10T05:50:57.926129Z",
     "shell.execute_reply": "2022-08-10T05:50:57.925252Z"
    },
    "papermill": {
     "duration": 0.031583,
     "end_time": "2022-08-10T05:50:57.928736",
     "exception": false,
     "start_time": "2022-08-10T05:50:57.897153",
     "status": "completed"
    },
    "tags": []
   },
   "outputs": [
    {
     "data": {
      "text/plain": [
       "5379956887"
      ]
     },
     "execution_count": 22,
     "metadata": {},
     "output_type": "execute_result"
    }
   ],
   "source": [
    "round(df.Price.mean())"
   ]
  },
  {
   "cell_type": "code",
   "execution_count": 23,
   "id": "7c0ac57a",
   "metadata": {
    "execution": {
     "iopub.execute_input": "2022-08-10T05:50:57.971254Z",
     "iopub.status.busy": "2022-08-10T05:50:57.970086Z",
     "iopub.status.idle": "2022-08-10T05:50:57.982527Z",
     "shell.execute_reply": "2022-08-10T05:50:57.981214Z"
    },
    "papermill": {
     "duration": 0.03658,
     "end_time": "2022-08-10T05:50:57.985009",
     "exception": false,
     "start_time": "2022-08-10T05:50:57.948429",
     "status": "completed"
    },
    "tags": []
   },
   "outputs": [
    {
     "data": {
      "text/plain": [
       "Room\n",
       "0    7.860500e+09\n",
       "1    1.707481e+09\n",
       "2    3.330303e+09\n",
       "3    1.093869e+10\n",
       "4    2.560033e+10\n",
       "5    3.373439e+10\n",
       "Name: Price, dtype: float64"
      ]
     },
     "execution_count": 23,
     "metadata": {},
     "output_type": "execute_result"
    }
   ],
   "source": [
    "df.groupby( 'Room' )['Price'].mean()"
   ]
  },
  {
   "cell_type": "code",
   "execution_count": 24,
   "id": "51360655",
   "metadata": {
    "execution": {
     "iopub.execute_input": "2022-08-10T05:50:58.027246Z",
     "iopub.status.busy": "2022-08-10T05:50:58.026790Z",
     "iopub.status.idle": "2022-08-10T05:50:58.032614Z",
     "shell.execute_reply": "2022-08-10T05:50:58.031447Z"
    },
    "papermill": {
     "duration": 0.029473,
     "end_time": "2022-08-10T05:50:58.034885",
     "exception": false,
     "start_time": "2022-08-10T05:50:58.005412",
     "status": "completed"
    },
    "tags": []
   },
   "outputs": [],
   "source": [
    "pd.set_option('display.float_format', lambda x: '%.f' % x)"
   ]
  },
  {
   "cell_type": "code",
   "execution_count": 25,
   "id": "eb043016",
   "metadata": {
    "execution": {
     "iopub.execute_input": "2022-08-10T05:50:58.076985Z",
     "iopub.status.busy": "2022-08-10T05:50:58.076229Z",
     "iopub.status.idle": "2022-08-10T05:50:58.090954Z",
     "shell.execute_reply": "2022-08-10T05:50:58.089795Z"
    },
    "papermill": {
     "duration": 0.038511,
     "end_time": "2022-08-10T05:50:58.093558",
     "exception": false,
     "start_time": "2022-08-10T05:50:58.055047",
     "status": "completed"
    },
    "tags": []
   },
   "outputs": [
    {
     "data": {
      "text/html": [
       "<div>\n",
       "<style scoped>\n",
       "    .dataframe tbody tr th:only-of-type {\n",
       "        vertical-align: middle;\n",
       "    }\n",
       "\n",
       "    .dataframe tbody tr th {\n",
       "        vertical-align: top;\n",
       "    }\n",
       "\n",
       "    .dataframe thead th {\n",
       "        text-align: right;\n",
       "    }\n",
       "</style>\n",
       "<table border=\"1\" class=\"dataframe\">\n",
       "  <thead>\n",
       "    <tr style=\"text-align: right;\">\n",
       "      <th></th>\n",
       "      <th>Room</th>\n",
       "      <th>Parking</th>\n",
       "      <th>Price</th>\n",
       "    </tr>\n",
       "  </thead>\n",
       "  <tbody>\n",
       "    <tr>\n",
       "      <th>0</th>\n",
       "      <td>0</td>\n",
       "      <td>False</td>\n",
       "      <td>9769750000</td>\n",
       "    </tr>\n",
       "    <tr>\n",
       "      <th>1</th>\n",
       "      <td>0</td>\n",
       "      <td>True</td>\n",
       "      <td>223500000</td>\n",
       "    </tr>\n",
       "    <tr>\n",
       "      <th>2</th>\n",
       "      <td>1</td>\n",
       "      <td>False</td>\n",
       "      <td>1139677778</td>\n",
       "    </tr>\n",
       "    <tr>\n",
       "      <th>3</th>\n",
       "      <td>1</td>\n",
       "      <td>True</td>\n",
       "      <td>2031368545</td>\n",
       "    </tr>\n",
       "    <tr>\n",
       "      <th>4</th>\n",
       "      <td>2</td>\n",
       "      <td>False</td>\n",
       "      <td>1501674180</td>\n",
       "    </tr>\n",
       "    <tr>\n",
       "      <th>5</th>\n",
       "      <td>2</td>\n",
       "      <td>True</td>\n",
       "      <td>3592919541</td>\n",
       "    </tr>\n",
       "    <tr>\n",
       "      <th>6</th>\n",
       "      <td>3</td>\n",
       "      <td>False</td>\n",
       "      <td>5107865385</td>\n",
       "    </tr>\n",
       "    <tr>\n",
       "      <th>7</th>\n",
       "      <td>3</td>\n",
       "      <td>True</td>\n",
       "      <td>11153730496</td>\n",
       "    </tr>\n",
       "    <tr>\n",
       "      <th>8</th>\n",
       "      <td>4</td>\n",
       "      <td>False</td>\n",
       "      <td>6200000000</td>\n",
       "    </tr>\n",
       "    <tr>\n",
       "      <th>9</th>\n",
       "      <td>4</td>\n",
       "      <td>True</td>\n",
       "      <td>25881492754</td>\n",
       "    </tr>\n",
       "    <tr>\n",
       "      <th>10</th>\n",
       "      <td>5</td>\n",
       "      <td>False</td>\n",
       "      <td>9999000000</td>\n",
       "    </tr>\n",
       "    <tr>\n",
       "      <th>11</th>\n",
       "      <td>5</td>\n",
       "      <td>True</td>\n",
       "      <td>37972857143</td>\n",
       "    </tr>\n",
       "  </tbody>\n",
       "</table>\n",
       "</div>"
      ],
      "text/plain": [
       "    Room  Parking       Price\n",
       "0      0    False  9769750000\n",
       "1      0     True   223500000\n",
       "2      1    False  1139677778\n",
       "3      1     True  2031368545\n",
       "4      2    False  1501674180\n",
       "5      2     True  3592919541\n",
       "6      3    False  5107865385\n",
       "7      3     True 11153730496\n",
       "8      4    False  6200000000\n",
       "9      4     True 25881492754\n",
       "10     5    False  9999000000\n",
       "11     5     True 37972857143"
      ]
     },
     "execution_count": 25,
     "metadata": {},
     "output_type": "execute_result"
    }
   ],
   "source": [
    "room_parking_room_mean_df = df.groupby( ['Room','Parking'] )['Price'].mean().reset_index()\n",
    "room_parking_room_mean_df"
   ]
  },
  {
   "cell_type": "code",
   "execution_count": 26,
   "id": "b4f7b60c",
   "metadata": {
    "execution": {
     "iopub.execute_input": "2022-08-10T05:50:58.136431Z",
     "iopub.status.busy": "2022-08-10T05:50:58.135692Z",
     "iopub.status.idle": "2022-08-10T05:50:58.140547Z",
     "shell.execute_reply": "2022-08-10T05:50:58.139571Z"
    },
    "papermill": {
     "duration": 0.028881,
     "end_time": "2022-08-10T05:50:58.142781",
     "exception": false,
     "start_time": "2022-08-10T05:50:58.113900",
     "status": "completed"
    },
    "tags": []
   },
   "outputs": [],
   "source": [
    "df2 = df.copy()"
   ]
  },
  {
   "cell_type": "code",
   "execution_count": 27,
   "id": "cd4063a2",
   "metadata": {
    "execution": {
     "iopub.execute_input": "2022-08-10T05:50:58.226250Z",
     "iopub.status.busy": "2022-08-10T05:50:58.225514Z",
     "iopub.status.idle": "2022-08-10T05:50:58.235101Z",
     "shell.execute_reply": "2022-08-10T05:50:58.233716Z"
    },
    "papermill": {
     "duration": 0.033887,
     "end_time": "2022-08-10T05:50:58.237797",
     "exception": false,
     "start_time": "2022-08-10T05:50:58.203910",
     "status": "completed"
    },
    "tags": []
   },
   "outputs": [],
   "source": [
    "df2.loc[:, \"Price\"] =df[\"Price\"].map('{:,.0f}'.format)"
   ]
  },
  {
   "cell_type": "code",
   "execution_count": 28,
   "id": "737d39fa",
   "metadata": {
    "execution": {
     "iopub.execute_input": "2022-08-10T05:50:58.280958Z",
     "iopub.status.busy": "2022-08-10T05:50:58.280231Z",
     "iopub.status.idle": "2022-08-10T05:50:58.297219Z",
     "shell.execute_reply": "2022-08-10T05:50:58.296173Z"
    },
    "papermill": {
     "duration": 0.04118,
     "end_time": "2022-08-10T05:50:58.299530",
     "exception": false,
     "start_time": "2022-08-10T05:50:58.258350",
     "status": "completed"
    },
    "tags": []
   },
   "outputs": [
    {
     "data": {
      "text/html": [
       "<div>\n",
       "<style scoped>\n",
       "    .dataframe tbody tr th:only-of-type {\n",
       "        vertical-align: middle;\n",
       "    }\n",
       "\n",
       "    .dataframe tbody tr th {\n",
       "        vertical-align: top;\n",
       "    }\n",
       "\n",
       "    .dataframe thead th {\n",
       "        text-align: right;\n",
       "    }\n",
       "</style>\n",
       "<table border=\"1\" class=\"dataframe\">\n",
       "  <thead>\n",
       "    <tr style=\"text-align: right;\">\n",
       "      <th></th>\n",
       "      <th>Area</th>\n",
       "      <th>Room</th>\n",
       "      <th>Parking</th>\n",
       "      <th>Warehouse</th>\n",
       "      <th>Elevator</th>\n",
       "      <th>Address</th>\n",
       "      <th>Price</th>\n",
       "      <th>Price(USD)</th>\n",
       "    </tr>\n",
       "  </thead>\n",
       "  <tbody>\n",
       "    <tr>\n",
       "      <th>0</th>\n",
       "      <td>63</td>\n",
       "      <td>1</td>\n",
       "      <td>True</td>\n",
       "      <td>True</td>\n",
       "      <td>True</td>\n",
       "      <td>Shahran</td>\n",
       "      <td>1,850,000,000</td>\n",
       "      <td>61667</td>\n",
       "    </tr>\n",
       "    <tr>\n",
       "      <th>1</th>\n",
       "      <td>60</td>\n",
       "      <td>1</td>\n",
       "      <td>True</td>\n",
       "      <td>True</td>\n",
       "      <td>True</td>\n",
       "      <td>Shahran</td>\n",
       "      <td>1,850,000,000</td>\n",
       "      <td>61667</td>\n",
       "    </tr>\n",
       "    <tr>\n",
       "      <th>2</th>\n",
       "      <td>79</td>\n",
       "      <td>2</td>\n",
       "      <td>True</td>\n",
       "      <td>True</td>\n",
       "      <td>True</td>\n",
       "      <td>Pardis</td>\n",
       "      <td>550,000,000</td>\n",
       "      <td>18333</td>\n",
       "    </tr>\n",
       "    <tr>\n",
       "      <th>3</th>\n",
       "      <td>95</td>\n",
       "      <td>2</td>\n",
       "      <td>True</td>\n",
       "      <td>True</td>\n",
       "      <td>True</td>\n",
       "      <td>Shahrake Qods</td>\n",
       "      <td>902,500,000</td>\n",
       "      <td>30083</td>\n",
       "    </tr>\n",
       "    <tr>\n",
       "      <th>4</th>\n",
       "      <td>123</td>\n",
       "      <td>2</td>\n",
       "      <td>True</td>\n",
       "      <td>True</td>\n",
       "      <td>True</td>\n",
       "      <td>Shahrake Gharb</td>\n",
       "      <td>7,000,000,000</td>\n",
       "      <td>233333</td>\n",
       "    </tr>\n",
       "    <tr>\n",
       "      <th>...</th>\n",
       "      <td>...</td>\n",
       "      <td>...</td>\n",
       "      <td>...</td>\n",
       "      <td>...</td>\n",
       "      <td>...</td>\n",
       "      <td>...</td>\n",
       "      <td>...</td>\n",
       "      <td>...</td>\n",
       "    </tr>\n",
       "    <tr>\n",
       "      <th>3474</th>\n",
       "      <td>86</td>\n",
       "      <td>2</td>\n",
       "      <td>True</td>\n",
       "      <td>True</td>\n",
       "      <td>True</td>\n",
       "      <td>Southern Janatabad</td>\n",
       "      <td>3,500,000,000</td>\n",
       "      <td>116667</td>\n",
       "    </tr>\n",
       "    <tr>\n",
       "      <th>3475</th>\n",
       "      <td>83</td>\n",
       "      <td>2</td>\n",
       "      <td>True</td>\n",
       "      <td>True</td>\n",
       "      <td>True</td>\n",
       "      <td>Niavaran</td>\n",
       "      <td>6,800,000,000</td>\n",
       "      <td>226667</td>\n",
       "    </tr>\n",
       "    <tr>\n",
       "      <th>3476</th>\n",
       "      <td>75</td>\n",
       "      <td>2</td>\n",
       "      <td>False</td>\n",
       "      <td>False</td>\n",
       "      <td>False</td>\n",
       "      <td>Parand</td>\n",
       "      <td>365,000,000</td>\n",
       "      <td>12167</td>\n",
       "    </tr>\n",
       "    <tr>\n",
       "      <th>3477</th>\n",
       "      <td>105</td>\n",
       "      <td>2</td>\n",
       "      <td>True</td>\n",
       "      <td>True</td>\n",
       "      <td>True</td>\n",
       "      <td>Dorous</td>\n",
       "      <td>5,600,000,000</td>\n",
       "      <td>186667</td>\n",
       "    </tr>\n",
       "    <tr>\n",
       "      <th>3478</th>\n",
       "      <td>82</td>\n",
       "      <td>2</td>\n",
       "      <td>False</td>\n",
       "      <td>True</td>\n",
       "      <td>True</td>\n",
       "      <td>Parand</td>\n",
       "      <td>360,000,000</td>\n",
       "      <td>12000</td>\n",
       "    </tr>\n",
       "  </tbody>\n",
       "</table>\n",
       "<p>3456 rows × 8 columns</p>\n",
       "</div>"
      ],
      "text/plain": [
       "      Area  Room  Parking  Warehouse  Elevator             Address  \\\n",
       "0       63     1     True       True      True             Shahran   \n",
       "1       60     1     True       True      True             Shahran   \n",
       "2       79     2     True       True      True              Pardis   \n",
       "3       95     2     True       True      True       Shahrake Qods   \n",
       "4      123     2     True       True      True      Shahrake Gharb   \n",
       "...    ...   ...      ...        ...       ...                 ...   \n",
       "3474    86     2     True       True      True  Southern Janatabad   \n",
       "3475    83     2     True       True      True            Niavaran   \n",
       "3476    75     2    False      False     False              Parand   \n",
       "3477   105     2     True       True      True              Dorous   \n",
       "3478    82     2    False       True      True              Parand   \n",
       "\n",
       "              Price  Price(USD)  \n",
       "0     1,850,000,000       61667  \n",
       "1     1,850,000,000       61667  \n",
       "2       550,000,000       18333  \n",
       "3       902,500,000       30083  \n",
       "4     7,000,000,000      233333  \n",
       "...             ...         ...  \n",
       "3474  3,500,000,000      116667  \n",
       "3475  6,800,000,000      226667  \n",
       "3476    365,000,000       12167  \n",
       "3477  5,600,000,000      186667  \n",
       "3478    360,000,000       12000  \n",
       "\n",
       "[3456 rows x 8 columns]"
      ]
     },
     "execution_count": 28,
     "metadata": {},
     "output_type": "execute_result"
    }
   ],
   "source": [
    "df2"
   ]
  },
  {
   "cell_type": "code",
   "execution_count": 29,
   "id": "e05c4509",
   "metadata": {
    "execution": {
     "iopub.execute_input": "2022-08-10T05:50:58.344056Z",
     "iopub.status.busy": "2022-08-10T05:50:58.343345Z",
     "iopub.status.idle": "2022-08-10T05:50:58.350859Z",
     "shell.execute_reply": "2022-08-10T05:50:58.349938Z"
    },
    "papermill": {
     "duration": 0.03241,
     "end_time": "2022-08-10T05:50:58.353090",
     "exception": false,
     "start_time": "2022-08-10T05:50:58.320680",
     "status": "completed"
    },
    "tags": []
   },
   "outputs": [
    {
     "data": {
      "text/plain": [
       "Area            int64\n",
       "Room            int64\n",
       "Parking          bool\n",
       "Warehouse        bool\n",
       "Elevator         bool\n",
       "Address        object\n",
       "Price           int64\n",
       "Price(USD)    float64\n",
       "dtype: object"
      ]
     },
     "execution_count": 29,
     "metadata": {},
     "output_type": "execute_result"
    }
   ],
   "source": [
    "df.dtypes"
   ]
  },
  {
   "cell_type": "markdown",
   "id": "d58f7ed4",
   "metadata": {
    "papermill": {
     "duration": 0.022427,
     "end_time": "2022-08-10T05:50:58.396773",
     "exception": false,
     "start_time": "2022-08-10T05:50:58.374346",
     "status": "completed"
    },
    "tags": []
   },
   "source": [
    "# Visualizaion"
   ]
  },
  {
   "cell_type": "code",
   "execution_count": 30,
   "id": "8a2ae2d0",
   "metadata": {
    "execution": {
     "iopub.execute_input": "2022-08-10T05:50:58.441349Z",
     "iopub.status.busy": "2022-08-10T05:50:58.440590Z",
     "iopub.status.idle": "2022-08-10T05:50:58.817598Z",
     "shell.execute_reply": "2022-08-10T05:50:58.816215Z"
    },
    "papermill": {
     "duration": 0.40187,
     "end_time": "2022-08-10T05:50:58.820064",
     "exception": false,
     "start_time": "2022-08-10T05:50:58.418194",
     "status": "completed"
    },
    "tags": []
   },
   "outputs": [
    {
     "data": {
      "text/plain": [
       "<seaborn.axisgrid.FacetGrid at 0x21dc8be2150>"
      ]
     },
     "execution_count": 30,
     "metadata": {},
     "output_type": "execute_result"
    },
    {
     "data": {
      "text/plain": [
       "<Figure size 800x500 with 0 Axes>"
      ]
     },
     "metadata": {},
     "output_type": "display_data"
    },
    {
     "data": {
      "image/png": "[encoded data removed]",
      "text/plain": [
       "<Figure size 500x500 with 1 Axes>"
      ]
     },
     "metadata": {},
     "output_type": "display_data"
    }
   ],
   "source": [
    "plt.figure(figsize=(8,5))\n",
    "sns.displot(df['Price'] , bins=30 , kde=True )"
   ]
  },
  {
   "cell_type": "code",
   "execution_count": 31,
   "id": "8bdd5d1a",
   "metadata": {
    "execution": {
     "iopub.execute_input": "2022-08-10T05:50:58.864501Z",
     "iopub.status.busy": "2022-08-10T05:50:58.863585Z",
     "iopub.status.idle": "2022-08-10T05:50:59.364826Z",
     "shell.execute_reply": "2022-08-10T05:50:59.363455Z"
    },
    "papermill": {
     "duration": 0.526357,
     "end_time": "2022-08-10T05:50:59.367408",
     "exception": false,
     "start_time": "2022-08-10T05:50:58.841051",
     "status": "completed"
    },
    "tags": []
   },
   "outputs": [
    {
     "data": {
      "text/plain": [
       "<Axes: >"
      ]
     },
     "execution_count": 31,
     "metadata": {},
     "output_type": "execute_result"
    },
    {
     "data": {
      "image/png": "[encoded data removed]",
      "text/plain": [
       "<Figure size 640x480 with 2 Axes>"
      ]
     },
     "metadata": {},
     "output_type": "display_data"
    }
   ],
   "source": [
    "sns.heatmap(df.corr(), annot=True,cmap='RdYlGn')"
   ]
  },
  {
   "cell_type": "code",
   "execution_count": 32,
   "id": "87141b11",
   "metadata": {
    "execution": {
     "iopub.execute_input": "2022-08-10T05:50:59.413288Z",
     "iopub.status.busy": "2022-08-10T05:50:59.412834Z",
     "iopub.status.idle": "2022-08-10T05:51:00.340078Z",
     "shell.execute_reply": "2022-08-10T05:51:00.338385Z"
    },
    "papermill": {
     "duration": 0.95333,
     "end_time": "2022-08-10T05:51:00.342665",
     "exception": false,
     "start_time": "2022-08-10T05:50:59.389335",
     "status": "completed"
    },
    "tags": []
   },
   "outputs": [
    {
     "data": {
      "image/png": "[encoded data removed]",
      "text/plain": [
       "<Figure size 1800x600 with 3 Axes>"
      ]
     },
     "metadata": {},
     "output_type": "display_data"
    }
   ],
   "source": [
    "fig, ax = plt.subplots(ncols=3, figsize=(18,6))\n",
    "\n",
    "colors = [['#ADEFD1FF', '#00203FFF'], ['#97BC62FF', '#2C5F2D'], ['#F5C7B8FF', '#FFA177FF']]\n",
    "explode = [0, 0.2]\n",
    "columns = ['Parking', 'Warehouse', 'Elevator']\n",
    "for i in range(3):\n",
    "        data = df[columns[i]].value_counts()\n",
    "        ax[i].pie(data, labels=data.values, explode=explode, colors=colors[i], shadow=True)\n",
    "        ax[i].legend(labels=data.index, fontsize='large')\n",
    "        ax[i].set_title('{} distribution'.format(columns[i]))"
   ]
  },
  {
   "cell_type": "code",
   "execution_count": 33,
   "id": "67c7e6b7",
   "metadata": {
    "execution": {
     "iopub.execute_input": "2022-08-10T05:51:00.391653Z",
     "iopub.status.busy": "2022-08-10T05:51:00.390962Z",
     "iopub.status.idle": "2022-08-10T05:51:00.399128Z",
     "shell.execute_reply": "2022-08-10T05:51:00.397945Z"
    },
    "papermill": {
     "duration": 0.036308,
     "end_time": "2022-08-10T05:51:00.401974",
     "exception": false,
     "start_time": "2022-08-10T05:51:00.365666",
     "status": "completed"
    },
    "tags": []
   },
   "outputs": [],
   "source": [
    "df3 = df['Address'].value_counts().copy()\n",
    "df3 = df3[:8]\n"
   ]
  },
  {
   "cell_type": "code",
   "execution_count": 34,
   "id": "e6d3072d",
   "metadata": {
    "execution": {
     "iopub.execute_input": "2022-08-10T05:51:00.450390Z",
     "iopub.status.busy": "2022-08-10T05:51:00.449409Z",
     "iopub.status.idle": "2022-08-10T05:51:00.736669Z",
     "shell.execute_reply": "2022-08-10T05:51:00.735642Z"
    },
    "papermill": {
     "duration": 0.314139,
     "end_time": "2022-08-10T05:51:00.739268",
     "exception": false,
     "start_time": "2022-08-10T05:51:00.425129",
     "status": "completed"
    },
    "tags": []
   },
   "outputs": [
    {
     "data": {
      "text/plain": [
       "Text(0.5, 1.0, 'Number of flats in location')"
      ]
     },
     "execution_count": 34,
     "metadata": {},
     "output_type": "execute_result"
    },
    {
     "data": {
      "image/png": "[encoded data removed]",
      "text/plain": [
       "<Figure size 600x1000 with 1 Axes>"
      ]
     },
     "metadata": {},
     "output_type": "display_data"
    }
   ],
   "source": [
    "fig, ax = plt.subplots(figsize=(6,10))\n",
    "sns.barplot(x=df3.values, y=df3.index,ax=ax)\n",
    "plt.xlabel('numerical amount of flats')\n",
    "plt.title('Number of flats in location')"
   ]
  },
  {
   "cell_type": "code",
   "execution_count": 35,
   "id": "bed1fac8",
   "metadata": {
    "execution": {
     "iopub.execute_input": "2022-08-10T05:51:00.789929Z",
     "iopub.status.busy": "2022-08-10T05:51:00.789230Z",
     "iopub.status.idle": "2022-08-10T05:51:00.795600Z",
     "shell.execute_reply": "2022-08-10T05:51:00.794702Z"
    },
    "papermill": {
     "duration": 0.034504,
     "end_time": "2022-08-10T05:51:00.798083",
     "exception": false,
     "start_time": "2022-08-10T05:51:00.763579",
     "status": "completed"
    },
    "scrolled": true,
    "tags": []
   },
   "outputs": [
    {
     "data": {
      "text/plain": [
       "Index(['Area', 'Room', 'Parking', 'Warehouse', 'Elevator', 'Address', 'Price',\n",
       "       'Price(USD)'],\n",
       "      dtype='object')"
      ]
     },
     "execution_count": 35,
     "metadata": {},
     "output_type": "execute_result"
    }
   ],
   "source": [
    "df.columns"
   ]
  },
  {
   "cell_type": "code",
   "execution_count": 36,
   "id": "b738518f",
   "metadata": {
    "execution": {
     "iopub.execute_input": "2022-08-10T05:51:00.847985Z",
     "iopub.status.busy": "2022-08-10T05:51:00.847259Z",
     "iopub.status.idle": "2022-08-10T05:51:00.859665Z",
     "shell.execute_reply": "2022-08-10T05:51:00.858699Z"
    },
    "papermill": {
     "duration": 0.040473,
     "end_time": "2022-08-10T05:51:00.862067",
     "exception": false,
     "start_time": "2022-08-10T05:51:00.821594",
     "status": "completed"
    },
    "tags": []
   },
   "outputs": [
    {
     "data": {
      "text/html": [
       "<div>\n",
       "<style scoped>\n",
       "    .dataframe tbody tr th:only-of-type {\n",
       "        vertical-align: middle;\n",
       "    }\n",
       "\n",
       "    .dataframe tbody tr th {\n",
       "        vertical-align: top;\n",
       "    }\n",
       "\n",
       "    .dataframe thead th {\n",
       "        text-align: right;\n",
       "    }\n",
       "</style>\n",
       "<table border=\"1\" class=\"dataframe\">\n",
       "  <thead>\n",
       "    <tr style=\"text-align: right;\">\n",
       "      <th></th>\n",
       "      <th>Address</th>\n",
       "    </tr>\n",
       "  </thead>\n",
       "  <tbody>\n",
       "    <tr>\n",
       "      <th>1707</th>\n",
       "      <td>Zaferanieh</td>\n",
       "    </tr>\n",
       "    <tr>\n",
       "      <th>1810</th>\n",
       "      <td>Abazar</td>\n",
       "    </tr>\n",
       "    <tr>\n",
       "      <th>430</th>\n",
       "      <td>Lavasan</td>\n",
       "    </tr>\n",
       "    <tr>\n",
       "      <th>819</th>\n",
       "      <td>Ekhtiarieh</td>\n",
       "    </tr>\n",
       "    <tr>\n",
       "      <th>1332</th>\n",
       "      <td>Niavaran</td>\n",
       "    </tr>\n",
       "    <tr>\n",
       "      <th>1694</th>\n",
       "      <td>Zafar</td>\n",
       "    </tr>\n",
       "    <tr>\n",
       "      <th>3051</th>\n",
       "      <td>Dorous</td>\n",
       "    </tr>\n",
       "    <tr>\n",
       "      <th>3107</th>\n",
       "      <td>Tajrish</td>\n",
       "    </tr>\n",
       "    <tr>\n",
       "      <th>831</th>\n",
       "      <td>Mahmoudieh</td>\n",
       "    </tr>\n",
       "    <tr>\n",
       "      <th>2394</th>\n",
       "      <td>Aqdasieh</td>\n",
       "    </tr>\n",
       "    <tr>\n",
       "      <th>2194</th>\n",
       "      <td>Niavaran</td>\n",
       "    </tr>\n",
       "    <tr>\n",
       "      <th>2706</th>\n",
       "      <td>Gandhi</td>\n",
       "    </tr>\n",
       "    <tr>\n",
       "      <th>1863</th>\n",
       "      <td>Elahieh</td>\n",
       "    </tr>\n",
       "    <tr>\n",
       "      <th>1407</th>\n",
       "      <td>North Program Organization</td>\n",
       "    </tr>\n",
       "    <tr>\n",
       "      <th>1635</th>\n",
       "      <td>Vanak</td>\n",
       "    </tr>\n",
       "    <tr>\n",
       "      <th>1270</th>\n",
       "      <td>Mirdamad</td>\n",
       "    </tr>\n",
       "    <tr>\n",
       "      <th>440</th>\n",
       "      <td>Niavaran</td>\n",
       "    </tr>\n",
       "    <tr>\n",
       "      <th>464</th>\n",
       "      <td>Farmanieh</td>\n",
       "    </tr>\n",
       "    <tr>\n",
       "      <th>431</th>\n",
       "      <td>Lavasan</td>\n",
       "    </tr>\n",
       "    <tr>\n",
       "      <th>583</th>\n",
       "      <td>Niavaran</td>\n",
       "    </tr>\n",
       "  </tbody>\n",
       "</table>\n",
       "</div>"
      ],
      "text/plain": [
       "                         Address\n",
       "1707                  Zaferanieh\n",
       "1810                      Abazar\n",
       "430                      Lavasan\n",
       "819                   Ekhtiarieh\n",
       "1332                    Niavaran\n",
       "1694                       Zafar\n",
       "3051                      Dorous\n",
       "3107                     Tajrish\n",
       "831                   Mahmoudieh\n",
       "2394                    Aqdasieh\n",
       "2194                    Niavaran\n",
       "2706                      Gandhi\n",
       "1863                     Elahieh\n",
       "1407  North Program Organization\n",
       "1635                       Vanak\n",
       "1270                    Mirdamad\n",
       "440                     Niavaran\n",
       "464                    Farmanieh\n",
       "431                      Lavasan\n",
       "583                     Niavaran"
      ]
     },
     "execution_count": 36,
     "metadata": {},
     "output_type": "execute_result"
    }
   ],
   "source": [
    "df.sort_values('Price',ascending=False)[['Address']].head(20)"
   ]
  },
  {
   "cell_type": "markdown",
   "id": "ce14afd5",
   "metadata": {
    "papermill": {
     "duration": 0.023414,
     "end_time": "2022-08-10T05:51:00.909317",
     "exception": false,
     "start_time": "2022-08-10T05:51:00.885903",
     "status": "completed"
    },
    "tags": []
   },
   "source": [
    "# Preprocessing"
   ]
  },
  {
   "cell_type": "markdown",
   "id": "a14d830c",
   "metadata": {
    "papermill": {
     "duration": 0.02361,
     "end_time": "2022-08-10T05:51:00.956546",
     "exception": false,
     "start_time": "2022-08-10T05:51:00.932936",
     "status": "completed"
    },
    "tags": []
   },
   "source": [
    "<img src=\"https://www.kdnuggets.com/wp-content/uploads/text-data-task-framework-preprocessing.png\" width=75% />"
   ]
  },
  {
   "cell_type": "code",
   "execution_count": 37,
   "id": "eecb1f4e",
   "metadata": {
    "execution": {
     "iopub.execute_input": "2022-08-10T05:51:01.006154Z",
     "iopub.status.busy": "2022-08-10T05:51:01.005464Z",
     "iopub.status.idle": "2022-08-10T05:51:01.014617Z",
     "shell.execute_reply": "2022-08-10T05:51:01.013666Z"
    },
    "papermill": {
     "duration": 0.036714,
     "end_time": "2022-08-10T05:51:01.016976",
     "exception": false,
     "start_time": "2022-08-10T05:51:00.980262",
     "status": "completed"
    },
    "tags": []
   },
   "outputs": [
    {
     "data": {
      "text/plain": [
       "Area          0\n",
       "Room          0\n",
       "Parking       0\n",
       "Warehouse     0\n",
       "Elevator      0\n",
       "Address       0\n",
       "Price         0\n",
       "Price(USD)    0\n",
       "dtype: int64"
      ]
     },
     "execution_count": 37,
     "metadata": {},
     "output_type": "execute_result"
    }
   ],
   "source": [
    "df.isnull().sum()"
   ]
  },
  {
   "cell_type": "code",
   "execution_count": 38,
   "id": "6c033c4e",
   "metadata": {
    "execution": {
     "iopub.execute_input": "2022-08-10T05:51:01.067226Z",
     "iopub.status.busy": "2022-08-10T05:51:01.066506Z",
     "iopub.status.idle": "2022-08-10T05:51:01.083503Z",
     "shell.execute_reply": "2022-08-10T05:51:01.082427Z"
    },
    "papermill": {
     "duration": 0.04505,
     "end_time": "2022-08-10T05:51:01.085780",
     "exception": false,
     "start_time": "2022-08-10T05:51:01.040730",
     "status": "completed"
    },
    "tags": []
   },
   "outputs": [
    {
     "data": {
      "text/html": [
       "<div>\n",
       "<style scoped>\n",
       "    .dataframe tbody tr th:only-of-type {\n",
       "        vertical-align: middle;\n",
       "    }\n",
       "\n",
       "    .dataframe tbody tr th {\n",
       "        vertical-align: top;\n",
       "    }\n",
       "\n",
       "    .dataframe thead th {\n",
       "        text-align: right;\n",
       "    }\n",
       "</style>\n",
       "<table border=\"1\" class=\"dataframe\">\n",
       "  <thead>\n",
       "    <tr style=\"text-align: right;\">\n",
       "      <th></th>\n",
       "      <th>Area</th>\n",
       "      <th>Room</th>\n",
       "      <th>Parking</th>\n",
       "      <th>Warehouse</th>\n",
       "      <th>Elevator</th>\n",
       "      <th>Address</th>\n",
       "      <th>Price</th>\n",
       "      <th>Price(USD)</th>\n",
       "    </tr>\n",
       "  </thead>\n",
       "  <tbody>\n",
       "    <tr>\n",
       "      <th>0</th>\n",
       "      <td>63</td>\n",
       "      <td>1</td>\n",
       "      <td>True</td>\n",
       "      <td>True</td>\n",
       "      <td>True</td>\n",
       "      <td>Shahran</td>\n",
       "      <td>1850000000</td>\n",
       "      <td>61667</td>\n",
       "    </tr>\n",
       "    <tr>\n",
       "      <th>1</th>\n",
       "      <td>60</td>\n",
       "      <td>1</td>\n",
       "      <td>True</td>\n",
       "      <td>True</td>\n",
       "      <td>True</td>\n",
       "      <td>Shahran</td>\n",
       "      <td>1850000000</td>\n",
       "      <td>61667</td>\n",
       "    </tr>\n",
       "    <tr>\n",
       "      <th>2</th>\n",
       "      <td>79</td>\n",
       "      <td>2</td>\n",
       "      <td>True</td>\n",
       "      <td>True</td>\n",
       "      <td>True</td>\n",
       "      <td>Pardis</td>\n",
       "      <td>550000000</td>\n",
       "      <td>18333</td>\n",
       "    </tr>\n",
       "    <tr>\n",
       "      <th>3</th>\n",
       "      <td>95</td>\n",
       "      <td>2</td>\n",
       "      <td>True</td>\n",
       "      <td>True</td>\n",
       "      <td>True</td>\n",
       "      <td>Shahrake Qods</td>\n",
       "      <td>902500000</td>\n",
       "      <td>30083</td>\n",
       "    </tr>\n",
       "    <tr>\n",
       "      <th>4</th>\n",
       "      <td>123</td>\n",
       "      <td>2</td>\n",
       "      <td>True</td>\n",
       "      <td>True</td>\n",
       "      <td>True</td>\n",
       "      <td>Shahrake Gharb</td>\n",
       "      <td>7000000000</td>\n",
       "      <td>233333</td>\n",
       "    </tr>\n",
       "    <tr>\n",
       "      <th>...</th>\n",
       "      <td>...</td>\n",
       "      <td>...</td>\n",
       "      <td>...</td>\n",
       "      <td>...</td>\n",
       "      <td>...</td>\n",
       "      <td>...</td>\n",
       "      <td>...</td>\n",
       "      <td>...</td>\n",
       "    </tr>\n",
       "    <tr>\n",
       "      <th>3474</th>\n",
       "      <td>86</td>\n",
       "      <td>2</td>\n",
       "      <td>True</td>\n",
       "      <td>True</td>\n",
       "      <td>True</td>\n",
       "      <td>Southern Janatabad</td>\n",
       "      <td>3500000000</td>\n",
       "      <td>116667</td>\n",
       "    </tr>\n",
       "    <tr>\n",
       "      <th>3475</th>\n",
       "      <td>83</td>\n",
       "      <td>2</td>\n",
       "      <td>True</td>\n",
       "      <td>True</td>\n",
       "      <td>True</td>\n",
       "      <td>Niavaran</td>\n",
       "      <td>6800000000</td>\n",
       "      <td>226667</td>\n",
       "    </tr>\n",
       "    <tr>\n",
       "      <th>3476</th>\n",
       "      <td>75</td>\n",
       "      <td>2</td>\n",
       "      <td>False</td>\n",
       "      <td>False</td>\n",
       "      <td>False</td>\n",
       "      <td>Parand</td>\n",
       "      <td>365000000</td>\n",
       "      <td>12167</td>\n",
       "    </tr>\n",
       "    <tr>\n",
       "      <th>3477</th>\n",
       "      <td>105</td>\n",
       "      <td>2</td>\n",
       "      <td>True</td>\n",
       "      <td>True</td>\n",
       "      <td>True</td>\n",
       "      <td>Dorous</td>\n",
       "      <td>5600000000</td>\n",
       "      <td>186667</td>\n",
       "    </tr>\n",
       "    <tr>\n",
       "      <th>3478</th>\n",
       "      <td>82</td>\n",
       "      <td>2</td>\n",
       "      <td>False</td>\n",
       "      <td>True</td>\n",
       "      <td>True</td>\n",
       "      <td>Parand</td>\n",
       "      <td>360000000</td>\n",
       "      <td>12000</td>\n",
       "    </tr>\n",
       "  </tbody>\n",
       "</table>\n",
       "<p>3456 rows × 8 columns</p>\n",
       "</div>"
      ],
      "text/plain": [
       "      Area  Room  Parking  Warehouse  Elevator             Address  \\\n",
       "0       63     1     True       True      True             Shahran   \n",
       "1       60     1     True       True      True             Shahran   \n",
       "2       79     2     True       True      True              Pardis   \n",
       "3       95     2     True       True      True       Shahrake Qods   \n",
       "4      123     2     True       True      True      Shahrake Gharb   \n",
       "...    ...   ...      ...        ...       ...                 ...   \n",
       "3474    86     2     True       True      True  Southern Janatabad   \n",
       "3475    83     2     True       True      True            Niavaran   \n",
       "3476    75     2    False      False     False              Parand   \n",
       "3477   105     2     True       True      True              Dorous   \n",
       "3478    82     2    False       True      True              Parand   \n",
       "\n",
       "           Price  Price(USD)  \n",
       "0     1850000000       61667  \n",
       "1     1850000000       61667  \n",
       "2      550000000       18333  \n",
       "3      902500000       30083  \n",
       "4     7000000000      233333  \n",
       "...          ...         ...  \n",
       "3474  3500000000      116667  \n",
       "3475  6800000000      226667  \n",
       "3476   365000000       12167  \n",
       "3477  5600000000      186667  \n",
       "3478   360000000       12000  \n",
       "\n",
       "[3456 rows x 8 columns]"
      ]
     },
     "execution_count": 38,
     "metadata": {},
     "output_type": "execute_result"
    }
   ],
   "source": [
    "df"
   ]
  },
  {
   "cell_type": "markdown",
   "id": "29cbf364",
   "metadata": {
    "papermill": {
     "duration": 0.024074,
     "end_time": "2022-08-10T05:51:01.134178",
     "exception": false,
     "start_time": "2022-08-10T05:51:01.110104",
     "status": "completed"
    },
    "tags": []
   },
   "source": [
    "# Model Building"
   ]
  },
  {
   "cell_type": "code",
   "execution_count": 39,
   "id": "c619f723",
   "metadata": {
    "execution": {
     "iopub.execute_input": "2022-08-10T05:51:01.184956Z",
     "iopub.status.busy": "2022-08-10T05:51:01.184553Z",
     "iopub.status.idle": "2022-08-10T05:51:01.201392Z",
     "shell.execute_reply": "2022-08-10T05:51:01.200453Z"
    },
    "papermill": {
     "duration": 0.04508,
     "end_time": "2022-08-10T05:51:01.203831",
     "exception": false,
     "start_time": "2022-08-10T05:51:01.158751",
     "status": "completed"
    },
    "scrolled": true,
    "tags": []
   },
   "outputs": [
    {
     "data": {
      "text/html": [
       "<div>\n",
       "<style scoped>\n",
       "    .dataframe tbody tr th:only-of-type {\n",
       "        vertical-align: middle;\n",
       "    }\n",
       "\n",
       "    .dataframe tbody tr th {\n",
       "        vertical-align: top;\n",
       "    }\n",
       "\n",
       "    .dataframe thead th {\n",
       "        text-align: right;\n",
       "    }\n",
       "</style>\n",
       "<table border=\"1\" class=\"dataframe\">\n",
       "  <thead>\n",
       "    <tr style=\"text-align: right;\">\n",
       "      <th></th>\n",
       "      <th>Area</th>\n",
       "      <th>Room</th>\n",
       "      <th>Parking</th>\n",
       "      <th>Warehouse</th>\n",
       "      <th>Elevator</th>\n",
       "      <th>Address</th>\n",
       "      <th>Price</th>\n",
       "    </tr>\n",
       "  </thead>\n",
       "  <tbody>\n",
       "    <tr>\n",
       "      <th>0</th>\n",
       "      <td>63</td>\n",
       "      <td>1</td>\n",
       "      <td>1</td>\n",
       "      <td>1</td>\n",
       "      <td>1</td>\n",
       "      <td>Shahran</td>\n",
       "      <td>1850000000</td>\n",
       "    </tr>\n",
       "    <tr>\n",
       "      <th>1</th>\n",
       "      <td>60</td>\n",
       "      <td>1</td>\n",
       "      <td>1</td>\n",
       "      <td>1</td>\n",
       "      <td>1</td>\n",
       "      <td>Shahran</td>\n",
       "      <td>1850000000</td>\n",
       "    </tr>\n",
       "    <tr>\n",
       "      <th>2</th>\n",
       "      <td>79</td>\n",
       "      <td>2</td>\n",
       "      <td>1</td>\n",
       "      <td>1</td>\n",
       "      <td>1</td>\n",
       "      <td>Pardis</td>\n",
       "      <td>550000000</td>\n",
       "    </tr>\n",
       "    <tr>\n",
       "      <th>3</th>\n",
       "      <td>95</td>\n",
       "      <td>2</td>\n",
       "      <td>1</td>\n",
       "      <td>1</td>\n",
       "      <td>1</td>\n",
       "      <td>Shahrake Qods</td>\n",
       "      <td>902500000</td>\n",
       "    </tr>\n",
       "    <tr>\n",
       "      <th>4</th>\n",
       "      <td>123</td>\n",
       "      <td>2</td>\n",
       "      <td>1</td>\n",
       "      <td>1</td>\n",
       "      <td>1</td>\n",
       "      <td>Shahrake Gharb</td>\n",
       "      <td>7000000000</td>\n",
       "    </tr>\n",
       "  </tbody>\n",
       "</table>\n",
       "</div>"
      ],
      "text/plain": [
       "   Area  Room  Parking  Warehouse  Elevator         Address       Price\n",
       "0    63     1        1          1         1         Shahran  1850000000\n",
       "1    60     1        1          1         1         Shahran  1850000000\n",
       "2    79     2        1          1         1          Pardis   550000000\n",
       "3    95     2        1          1         1   Shahrake Qods   902500000\n",
       "4   123     2        1          1         1  Shahrake Gharb  7000000000"
      ]
     },
     "execution_count": 39,
     "metadata": {},
     "output_type": "execute_result"
    }
   ],
   "source": [
    "df = df.drop(columns = ['Price(USD)'])\n",
    "boolean_features = ['Parking','Warehouse','Elevator']\n",
    "df[boolean_features] = df[boolean_features].astype('int64')\n",
    "\n",
    "df.head()"
   ]
  },
  {
   "cell_type": "code",
   "execution_count": 40,
   "id": "b1a342a3",
   "metadata": {
    "execution": {
     "iopub.execute_input": "2022-08-10T05:51:01.255585Z",
     "iopub.status.busy": "2022-08-10T05:51:01.254572Z",
     "iopub.status.idle": "2022-08-10T05:51:01.264179Z",
     "shell.execute_reply": "2022-08-10T05:51:01.263115Z"
    },
    "papermill": {
     "duration": 0.038648,
     "end_time": "2022-08-10T05:51:01.266994",
     "exception": false,
     "start_time": "2022-08-10T05:51:01.228346",
     "status": "completed"
    },
    "tags": []
   },
   "outputs": [
    {
     "name": "stdout",
     "output_type": "stream",
     "text": [
      "Skewness of features:\n",
      "Area        44\n",
      "Room         1\n",
      "Parking     -2\n",
      "Warehouse   -3\n",
      "Elevator    -1\n",
      "Price        5\n",
      "dtype: float64\n"
     ]
    }
   ],
   "source": [
    "print(f\"Skewness of features:\\n{df.skew()}\")\n"
   ]
  },
  {
   "cell_type": "code",
   "execution_count": 41,
   "id": "f9e24be0",
   "metadata": {
    "execution": {
     "iopub.execute_input": "2022-08-10T05:51:01.318052Z",
     "iopub.status.busy": "2022-08-10T05:51:01.317335Z",
     "iopub.status.idle": "2022-08-10T05:51:01.643093Z",
     "shell.execute_reply": "2022-08-10T05:51:01.642154Z"
    },
    "papermill": {
     "duration": 0.354232,
     "end_time": "2022-08-10T05:51:01.645338",
     "exception": false,
     "start_time": "2022-08-10T05:51:01.291106",
     "status": "completed"
    },
    "tags": []
   },
   "outputs": [
    {
     "data": {
      "text/plain": [
       "<Axes: xlabel='Price'>"
      ]
     },
     "execution_count": 41,
     "metadata": {},
     "output_type": "execute_result"
    },
    {
     "data": {
      "image/png": "[encoded data removed]",
      "text/plain": [
       "<Figure size 1600x800 with 2 Axes>"
      ]
     },
     "metadata": {},
     "output_type": "display_data"
    }
   ],
   "source": [
    "plt.figure(figsize = (16,8))\n",
    "\n",
    "plt.subplot(2,1,1)\n",
    "sns.boxplot(x = df['Area'])\n",
    "\n",
    "plt.subplot(2,1,2)\n",
    "sns.boxplot(x = df['Price'])"
   ]
  },
  {
   "cell_type": "code",
   "execution_count": 42,
   "id": "b91349d5",
   "metadata": {
    "execution": {
     "iopub.execute_input": "2022-08-10T05:51:01.709523Z",
     "iopub.status.busy": "2022-08-10T05:51:01.708376Z",
     "iopub.status.idle": "2022-08-10T05:51:01.719392Z",
     "shell.execute_reply": "2022-08-10T05:51:01.717363Z"
    },
    "papermill": {
     "duration": 0.052765,
     "end_time": "2022-08-10T05:51:01.723713",
     "exception": false,
     "start_time": "2022-08-10T05:51:01.670948",
     "status": "completed"
    },
    "tags": []
   },
   "outputs": [
    {
     "name": "stdout",
     "output_type": "stream",
     "text": [
      "Lower limit for area: -9.00\n",
      "Upper limit for area: 199.00\n",
      "Lower limit for price: -5,450,000,000.0\n",
      "Upper limit for price: 12,870,000,000.0\n"
     ]
    }
   ],
   "source": [
    "def lower_upper(x):\n",
    "    Q1 = np.percentile(x, 25)\n",
    "    Q3 = np.percentile(x, 75)\n",
    "    IQR = Q3 - Q1\n",
    "    lower = Q1 - 1.5 * IQR\n",
    "    upper = Q3 + 1.5 * IQR\n",
    "    \n",
    "    return lower, upper\n",
    "\n",
    "lower_area, upper_area = lower_upper(df['Area'])\n",
    "lower_price, upper_price = lower_upper(df['Price'])\n",
    "\n",
    "print(f\"Lower limit for area: {lower_area:0.2f}\")\n",
    "print(f\"Upper limit for area: {upper_area:0.2f}\")\n",
    "print(f\"Lower limit for price: {lower_price:,}\")\n",
    "print(f\"Upper limit for price: {upper_price:,}\")"
   ]
  },
  {
   "cell_type": "code",
   "execution_count": 43,
   "id": "f231bdaf",
   "metadata": {
    "execution": {
     "iopub.execute_input": "2022-08-10T05:51:01.775529Z",
     "iopub.status.busy": "2022-08-10T05:51:01.775044Z",
     "iopub.status.idle": "2022-08-10T05:51:01.785213Z",
     "shell.execute_reply": "2022-08-10T05:51:01.783813Z"
    },
    "papermill": {
     "duration": 0.039018,
     "end_time": "2022-08-10T05:51:01.787923",
     "exception": false,
     "start_time": "2022-08-10T05:51:01.748905",
     "status": "completed"
    },
    "tags": []
   },
   "outputs": [
    {
     "name": "stdout",
     "output_type": "stream",
     "text": [
      "Number of area outliers: 237\n",
      "Number of price outliers: 310\n",
      "Number of outliers: 366\n"
     ]
    }
   ],
   "source": [
    "area_outliers = np.where(df['Area'] > upper_area)\n",
    "price_outliers = np.where(df['Price'] > upper_price)\n",
    "total_outliers = np.union1d(area_outliers, price_outliers)\n",
    "\n",
    "print(f\"Number of area outliers: {len(df.iloc[area_outliers])}\")\n",
    "print(f\"Number of price outliers: {len(df.iloc[price_outliers])}\")\n",
    "print(f\"Number of outliers: {len(df.iloc[total_outliers])}\")"
   ]
  },
  {
   "cell_type": "code",
   "execution_count": 44,
   "id": "00736429",
   "metadata": {
    "execution": {
     "iopub.execute_input": "2022-08-10T05:51:01.840260Z",
     "iopub.status.busy": "2022-08-10T05:51:01.839524Z",
     "iopub.status.idle": "2022-08-10T05:51:01.848375Z",
     "shell.execute_reply": "2022-08-10T05:51:01.847216Z"
    },
    "papermill": {
     "duration": 0.038184,
     "end_time": "2022-08-10T05:51:01.851081",
     "exception": false,
     "start_time": "2022-08-10T05:51:01.812897",
     "status": "completed"
    },
    "tags": []
   },
   "outputs": [
    {
     "data": {
      "text/plain": [
       "array([  25,   58,   83,  101,  145,  159,  160,  166,  173,  176,  187,\n",
       "        189,  193,  195,  196,  200,  210,  215,  218,  220,  226,  234,\n",
       "        235,  238,  260,  262,  264,  269,  270,  281,  283,  284,  297,\n",
       "        299,  315,  327,  329,  338,  339,  340,  342,  343,  344,  345,\n",
       "        346,  347,  348,  349,  351,  353,  355,  356,  362,  363,  364,\n",
       "        394,  410,  411,  412,  429,  430,  436,  439,  458,  463,  496,\n",
       "        512,  514,  515,  516,  525,  534,  547,  553,  559,  564,  565,\n",
       "        566,  567,  569,  572,  576,  577,  578,  579,  582,  599,  600,\n",
       "        610,  627,  635,  638,  640,  641,  648,  649,  652,  706,  712,\n",
       "        721,  729,  730,  731,  738,  739,  740,  753,  765,  792,  803,\n",
       "        804,  816,  819,  828,  834,  836,  849,  872,  876,  891,  955,\n",
       "        956,  962, 1005, 1006, 1012, 1021, 1022, 1028, 1031, 1033, 1103,\n",
       "       1110, 1114, 1128, 1136, 1137, 1148, 1174, 1175, 1228, 1230, 1231,\n",
       "       1232, 1258, 1260, 1265, 1266, 1270, 1282, 1287, 1305, 1306, 1307,\n",
       "       1308, 1309, 1318, 1323, 1327, 1328, 1337, 1340, 1344, 1345, 1347,\n",
       "       1350, 1352, 1354, 1361, 1384, 1396, 1397, 1401, 1402, 1403, 1410,\n",
       "       1420, 1421, 1422, 1423, 1424, 1428, 1430, 1432, 1433, 1438, 1439,\n",
       "       1458, 1478, 1480, 1483, 1521, 1526, 1529, 1540, 1541, 1546, 1559,\n",
       "       1560, 1562, 1581, 1582, 1585, 1598, 1607, 1619, 1629, 1636, 1638,\n",
       "       1643, 1644, 1646, 1652, 1659, 1676, 1687, 1688, 1694, 1701, 1705,\n",
       "       1715, 1717, 1720, 1734, 1761, 1762, 1772, 1785, 1800, 1803, 1804,\n",
       "       1814, 1820, 1821, 1847, 1851, 1855, 1856, 1861, 1864, 1876, 1878,\n",
       "       1905, 1909, 1911, 1912, 1913, 1924, 1935, 1963, 1966, 1967, 1977,\n",
       "       1978, 1979, 1980, 1982, 1986, 1987, 1988, 1989, 1990, 1995, 1996,\n",
       "       1997, 1999, 2000, 2004, 2007, 2009, 2011, 2013, 2022, 2023, 2025,\n",
       "       2084, 2102, 2133, 2160, 2161, 2168, 2169, 2184, 2226, 2255, 2263,\n",
       "       2264, 2267, 2271, 2303, 2309, 2320, 2323, 2339, 2346, 2349, 2350,\n",
       "       2353, 2356, 2358, 2359, 2360, 2363, 2382, 2383, 2389, 2455, 2463,\n",
       "       2465, 2468, 2489, 2506, 2519, 2548, 2564, 2567, 2571, 2585, 2615,\n",
       "       2627, 2634, 2676, 2680, 2693, 2709, 2765, 2788, 2796, 2836, 2877,\n",
       "       2931, 2946, 2955, 2977, 2986, 3002, 3036, 3041, 3049, 3061, 3073,\n",
       "       3092, 3096, 3100, 3117, 3125, 3167, 3168, 3177, 3197, 3221, 3227,\n",
       "       3237, 3238, 3247, 3250, 3253, 3271, 3306, 3314, 3345, 3352, 3367,\n",
       "       3373, 3415, 3419], dtype=int64)"
      ]
     },
     "execution_count": 44,
     "metadata": {},
     "output_type": "execute_result"
    }
   ],
   "source": [
    "total_outliers"
   ]
  },
  {
   "cell_type": "code",
   "execution_count": 118,
   "id": "e0204753",
   "metadata": {},
   "outputs": [],
   "source": [
    "categorical_pipeline1 = Pipeline([('OneHot', OneHotEncoder(handle_unknown='ignore'))])\n",
    "categorical_pipeline2 = Pipeline([('LE', LabelEncoder())])\n",
    "\n",
    "numeric_pipeline = Pipeline([('Scaler', StandardScaler())]) \n",
    "                                 \n",
    "transformer = ColumnTransformer([('Num', numeric_pipeline, ['Area', 'Room']), \n",
    "                                 ('Category', categorical_pipeline, ['Address', 'Warehouse', 'Parking', 'Elevator'])])"
   ]
  },
  {
   "cell_type": "code",
   "execution_count": 119,
   "id": "62cbabe1",
   "metadata": {},
   "outputs": [],
   "source": [
    "knr = KNeighborsRegressor(n_jobs=-1)"
   ]
  },
  {
   "cell_type": "code",
   "execution_count": 120,
   "id": "f60fad73",
   "metadata": {},
   "outputs": [],
   "source": [
    "mlpipe1 = Pipeline([('Transformer' , transformer) , ('knr', KNeighborsRegressor(n_jobs=-1))])"
   ]
  },
  {
   "cell_type": "code",
   "execution_count": 121,
   "id": "32a2d507",
   "metadata": {},
   "outputs": [
    {
     "data": {
      "text/html": [
       "<style>#sk-container-id-6 {color: black;background-color: white;}#sk-container-id-6 pre{padding: 0;}#sk-container-id-6 div.sk-toggleable {background-color: white;}#sk-container-id-6 label.sk-toggleable__label {cursor: pointer;display: block;width: 100%;margin-bottom: 0;padding: 0.3em;box-sizing: border-box;text-align: center;}#sk-container-id-6 label.sk-toggleable__label-arrow:before {content: \"▸\";float: left;margin-right: 0.25em;color: #696969;}#sk-container-id-6 label.sk-toggleable__label-arrow:hover:before {color: black;}#sk-container-id-6 div.sk-estimator:hover label.sk-toggleable__label-arrow:before {color: black;}#sk-container-id-6 div.sk-toggleable__content {max-height: 0;max-width: 0;overflow: hidden;text-align: left;background-color: #f0f8ff;}#sk-container-id-6 div.sk-toggleable__content pre {margin: 0.2em;color: black;border-radius: 0.25em;background-color: #f0f8ff;}#sk-container-id-6 input.sk-toggleable__control:checked~div.sk-toggleable__content {max-height: 200px;max-width: 100%;overflow: auto;}#sk-container-id-6 input.sk-toggleable__control:checked~label.sk-toggleable__label-arrow:before {content: \"▾\";}#sk-container-id-6 div.sk-estimator input.sk-toggleable__control:checked~label.sk-toggleable__label {background-color: #d4ebff;}#sk-container-id-6 div.sk-label input.sk-toggleable__control:checked~label.sk-toggleable__label {background-color: #d4ebff;}#sk-container-id-6 input.sk-hidden--visually {border: 0;clip: rect(1px 1px 1px 1px);clip: rect(1px, 1px, 1px, 1px);height: 1px;margin: -1px;overflow: hidden;padding: 0;position: absolute;width: 1px;}#sk-container-id-6 div.sk-estimator {font-family: monospace;background-color: #f0f8ff;border: 1px dotted black;border-radius: 0.25em;box-sizing: border-box;margin-bottom: 0.5em;}#sk-container-id-6 div.sk-estimator:hover {background-color: #d4ebff;}#sk-container-id-6 div.sk-parallel-item::after {content: \"\";width: 100%;border-bottom: 1px solid gray;flex-grow: 1;}#sk-container-id-6 div.sk-label:hover label.sk-toggleable__label {background-color: #d4ebff;}#sk-container-id-6 div.sk-serial::before {content: \"\";position: absolute;border-left: 1px solid gray;box-sizing: border-box;top: 0;bottom: 0;left: 50%;z-index: 0;}#sk-container-id-6 div.sk-serial {display: flex;flex-direction: column;align-items: center;background-color: white;padding-right: 0.2em;padding-left: 0.2em;position: relative;}#sk-container-id-6 div.sk-item {position: relative;z-index: 1;}#sk-container-id-6 div.sk-parallel {display: flex;align-items: stretch;justify-content: center;background-color: white;position: relative;}#sk-container-id-6 div.sk-item::before, #sk-container-id-6 div.sk-parallel-item::before {content: \"\";position: absolute;border-left: 1px solid gray;box-sizing: border-box;top: 0;bottom: 0;left: 50%;z-index: -1;}#sk-container-id-6 div.sk-parallel-item {display: flex;flex-direction: column;z-index: 1;position: relative;background-color: white;}#sk-container-id-6 div.sk-parallel-item:first-child::after {align-self: flex-end;width: 50%;}#sk-container-id-6 div.sk-parallel-item:last-child::after {align-self: flex-start;width: 50%;}#sk-container-id-6 div.sk-parallel-item:only-child::after {width: 0;}#sk-container-id-6 div.sk-dashed-wrapped {border: 1px dashed gray;margin: 0 0.4em 0.5em 0.4em;box-sizing: border-box;padding-bottom: 0.4em;background-color: white;}#sk-container-id-6 div.sk-label label {font-family: monospace;font-weight: bold;display: inline-block;line-height: 1.2em;}#sk-container-id-6 div.sk-label-container {text-align: center;}#sk-container-id-6 div.sk-container {/* jupyter's `normalize.less` sets `[hidden] { display: none; }` but bootstrap.min.css set `[hidden] { display: none !important; }` so we also need the `!important` here to be able to override the default hidden behavior on the sphinx rendered scikit-learn.org. See: https://github.com/scikit-learn/scikit-learn/issues/21755 */display: inline-block !important;position: relative;}#sk-container-id-6 div.sk-text-repr-fallback {display: none;}</style><div id=\"sk-container-id-6\" class=\"sk-top-container\"><div class=\"sk-text-repr-fallback\"><pre>Pipeline(steps=[(&#x27;Transformer&#x27;,\n",
       "                 ColumnTransformer(transformers=[(&#x27;Num&#x27;,\n",
       "                                                  Pipeline(steps=[(&#x27;Scaler&#x27;,\n",
       "                                                                   StandardScaler())]),\n",
       "                                                  [&#x27;Area&#x27;, &#x27;Room&#x27;]),\n",
       "                                                 (&#x27;Category&#x27;,\n",
       "                                                  Pipeline(steps=[(&#x27;OneHot&#x27;,\n",
       "                                                                   OneHotEncoder(handle_unknown=&#x27;ignore&#x27;))]),\n",
       "                                                  [&#x27;Address&#x27;, &#x27;Warehouse&#x27;,\n",
       "                                                   &#x27;Parking&#x27;, &#x27;Elevator&#x27;])])),\n",
       "                (&#x27;knr&#x27;, KNeighborsRegressor(n_jobs=-1))])</pre><b>In a Jupyter environment, please rerun this cell to show the HTML representation or trust the notebook. <br />On GitHub, the HTML representation is unable to render, please try loading this page with nbviewer.org.</b></div><div class=\"sk-container\" hidden><div class=\"sk-item sk-dashed-wrapped\"><div class=\"sk-label-container\"><div class=\"sk-label sk-toggleable\"><input class=\"sk-toggleable__control sk-hidden--visually\" id=\"sk-estimator-id-36\" type=\"checkbox\" ><label for=\"sk-estimator-id-36\" class=\"sk-toggleable__label sk-toggleable__label-arrow\">Pipeline</label><div class=\"sk-toggleable__content\"><pre>Pipeline(steps=[(&#x27;Transformer&#x27;,\n",
       "                 ColumnTransformer(transformers=[(&#x27;Num&#x27;,\n",
       "                                                  Pipeline(steps=[(&#x27;Scaler&#x27;,\n",
       "                                                                   StandardScaler())]),\n",
       "                                                  [&#x27;Area&#x27;, &#x27;Room&#x27;]),\n",
       "                                                 (&#x27;Category&#x27;,\n",
       "                                                  Pipeline(steps=[(&#x27;OneHot&#x27;,\n",
       "                                                                   OneHotEncoder(handle_unknown=&#x27;ignore&#x27;))]),\n",
       "                                                  [&#x27;Address&#x27;, &#x27;Warehouse&#x27;,\n",
       "                                                   &#x27;Parking&#x27;, &#x27;Elevator&#x27;])])),\n",
       "                (&#x27;knr&#x27;, KNeighborsRegressor(n_jobs=-1))])</pre></div></div></div><div class=\"sk-serial\"><div class=\"sk-item sk-dashed-wrapped\"><div class=\"sk-label-container\"><div class=\"sk-label sk-toggleable\"><input class=\"sk-toggleable__control sk-hidden--visually\" id=\"sk-estimator-id-37\" type=\"checkbox\" ><label for=\"sk-estimator-id-37\" class=\"sk-toggleable__label sk-toggleable__label-arrow\">Transformer: ColumnTransformer</label><div class=\"sk-toggleable__content\"><pre>ColumnTransformer(transformers=[(&#x27;Num&#x27;,\n",
       "                                 Pipeline(steps=[(&#x27;Scaler&#x27;, StandardScaler())]),\n",
       "                                 [&#x27;Area&#x27;, &#x27;Room&#x27;]),\n",
       "                                (&#x27;Category&#x27;,\n",
       "                                 Pipeline(steps=[(&#x27;OneHot&#x27;,\n",
       "                                                  OneHotEncoder(handle_unknown=&#x27;ignore&#x27;))]),\n",
       "                                 [&#x27;Address&#x27;, &#x27;Warehouse&#x27;, &#x27;Parking&#x27;,\n",
       "                                  &#x27;Elevator&#x27;])])</pre></div></div></div><div class=\"sk-parallel\"><div class=\"sk-parallel-item\"><div class=\"sk-item\"><div class=\"sk-label-container\"><div class=\"sk-label sk-toggleable\"><input class=\"sk-toggleable__control sk-hidden--visually\" id=\"sk-estimator-id-38\" type=\"checkbox\" ><label for=\"sk-estimator-id-38\" class=\"sk-toggleable__label sk-toggleable__label-arrow\">Num</label><div class=\"sk-toggleable__content\"><pre>[&#x27;Area&#x27;, &#x27;Room&#x27;]</pre></div></div></div><div class=\"sk-serial\"><div class=\"sk-item\"><div class=\"sk-serial\"><div class=\"sk-item\"><div class=\"sk-estimator sk-toggleable\"><input class=\"sk-toggleable__control sk-hidden--visually\" id=\"sk-estimator-id-39\" type=\"checkbox\" ><label for=\"sk-estimator-id-39\" class=\"sk-toggleable__label sk-toggleable__label-arrow\">StandardScaler</label><div class=\"sk-toggleable__content\"><pre>StandardScaler()</pre></div></div></div></div></div></div></div></div><div class=\"sk-parallel-item\"><div class=\"sk-item\"><div class=\"sk-label-container\"><div class=\"sk-label sk-toggleable\"><input class=\"sk-toggleable__control sk-hidden--visually\" id=\"sk-estimator-id-40\" type=\"checkbox\" ><label for=\"sk-estimator-id-40\" class=\"sk-toggleable__label sk-toggleable__label-arrow\">Category</label><div class=\"sk-toggleable__content\"><pre>[&#x27;Address&#x27;, &#x27;Warehouse&#x27;, &#x27;Parking&#x27;, &#x27;Elevator&#x27;]</pre></div></div></div><div class=\"sk-serial\"><div class=\"sk-item\"><div class=\"sk-serial\"><div class=\"sk-item\"><div class=\"sk-estimator sk-toggleable\"><input class=\"sk-toggleable__control sk-hidden--visually\" id=\"sk-estimator-id-41\" type=\"checkbox\" ><label for=\"sk-estimator-id-41\" class=\"sk-toggleable__label sk-toggleable__label-arrow\">OneHotEncoder</label><div class=\"sk-toggleable__content\"><pre>OneHotEncoder(handle_unknown=&#x27;ignore&#x27;)</pre></div></div></div></div></div></div></div></div></div></div><div class=\"sk-item\"><div class=\"sk-estimator sk-toggleable\"><input class=\"sk-toggleable__control sk-hidden--visually\" id=\"sk-estimator-id-42\" type=\"checkbox\" ><label for=\"sk-estimator-id-42\" class=\"sk-toggleable__label sk-toggleable__label-arrow\">KNeighborsRegressor</label><div class=\"sk-toggleable__content\"><pre>KNeighborsRegressor(n_jobs=-1)</pre></div></div></div></div></div></div></div>"
      ],
      "text/plain": [
       "Pipeline(steps=[('Transformer',\n",
       "                 ColumnTransformer(transformers=[('Num',\n",
       "                                                  Pipeline(steps=[('Scaler',\n",
       "                                                                   StandardScaler())]),\n",
       "                                                  ['Area', 'Room']),\n",
       "                                                 ('Category',\n",
       "                                                  Pipeline(steps=[('OneHot',\n",
       "                                                                   OneHotEncoder(handle_unknown='ignore'))]),\n",
       "                                                  ['Address', 'Warehouse',\n",
       "                                                   'Parking', 'Elevator'])])),\n",
       "                ('knr', KNeighborsRegressor(n_jobs=-1))])"
      ]
     },
     "execution_count": 121,
     "metadata": {},
     "output_type": "execute_result"
    }
   ],
   "source": [
    "mlpipe1.fit(X_train, y_train)"
   ]
  },
  {
   "cell_type": "code",
   "execution_count": 122,
   "id": "dce226e4",
   "metadata": {
    "execution": {
     "iopub.execute_input": "2022-08-10T05:51:02.316342Z",
     "iopub.status.busy": "2022-08-10T05:51:02.315825Z",
     "iopub.status.idle": "2022-08-10T05:51:02.332969Z",
     "shell.execute_reply": "2022-08-10T05:51:02.331215Z"
    },
    "papermill": {
     "duration": 0.047678,
     "end_time": "2022-08-10T05:51:02.335751",
     "exception": false,
     "start_time": "2022-08-10T05:51:02.288073",
     "status": "completed"
    },
    "tags": []
   },
   "outputs": [
    {
     "name": "stdout",
     "output_type": "stream",
     "text": [
      "shape of x train: (2764, 6)\n",
      "shape of y train: (2764,)\n",
      "shape of x test: (692, 6)\n",
      "shape of y train: (692,)\n"
     ]
    }
   ],
   "source": [
    "X = df.drop(columns = 'Price')\n",
    "y = df['Price']\n",
    "X_train, X_test, y_train, y_test = train_test_split(X, y, test_size = 0.2, random_state = 0)\n",
    "print(f\"shape of x train: {X_train.shape}\")\n",
    "print(f\"shape of y train: {y_train.shape}\")\n",
    "print(f\"shape of x test: {X_test.shape}\")\n",
    "print(f\"shape of y train: {y_test.shape}\")"
   ]
  },
  {
   "cell_type": "code",
   "execution_count": 123,
   "id": "7c14fd1c",
   "metadata": {
    "execution": {
     "iopub.execute_input": "2022-08-10T05:51:02.391103Z",
     "iopub.status.busy": "2022-08-10T05:51:02.389927Z",
     "iopub.status.idle": "2022-08-10T05:51:02.400492Z",
     "shell.execute_reply": "2022-08-10T05:51:02.399217Z"
    },
    "papermill": {
     "duration": 0.04114,
     "end_time": "2022-08-10T05:51:02.403411",
     "exception": false,
     "start_time": "2022-08-10T05:51:02.362271",
     "status": "completed"
    },
    "tags": []
   },
   "outputs": [],
   "source": [
    "def parameter_finder (model, parameters):\n",
    "    \n",
    "    start = time.time()\n",
    "    \n",
    "    grid = GridSearchCV(model, \n",
    "                        param_grid = parameters, \n",
    "                        refit = True, \n",
    "                        cv = KFold(shuffle = True, random_state = 1), \n",
    "                        n_jobs = -1)\n",
    "    grid_fit = grid.fit(X_train, y_train)\n",
    "    y_train_pred = grid_fit.predict(X_train)\n",
    "    y_pred = grid_fit.predict(X_test)\n",
    "    \n",
    "    train_score =grid_fit.score(X_train, y_train)\n",
    "    test_score = grid_fit.score(X_test, y_test)\n",
    "    RMSE = np.sqrt(mean_squared_error(y_test, y_pred))\n",
    "    \n",
    "    model_name = str(model).split('(')[0]\n",
    "    \n",
    "    end = time.time()\n",
    "    \n",
    "    print(f\"The best parameters for {model_name} model is: {grid_fit.best_params_}\")\n",
    "    print(\"--\" * 10)\n",
    "    print(f\"(R2 score) in the training set is {train_score:0.2%} for {model_name} model.\")\n",
    "    print(f\"(R2 score) in the testing set is {test_score:0.2%} for {model_name} model.\")\n",
    "    print(f\"RMSE is {RMSE:,} for {model_name} model.\")\n",
    "    print(\"--\" * 10)\n",
    "    print(f\"Runtime of the program is: {end - start:0.2f}\")\n",
    "    \n",
    "       \n",
    "    return train_score, test_score, RMSE"
   ]
  },
  {
   "cell_type": "code",
   "execution_count": null,
   "id": "4f6e2273",
   "metadata": {
    "execution": {
     "iopub.execute_input": "2022-08-10T05:51:02.458378Z",
     "iopub.status.busy": "2022-08-10T05:51:02.457667Z",
     "iopub.status.idle": "2022-08-10T05:51:04.676096Z",
     "shell.execute_reply": "2022-08-10T05:51:04.671881Z"
    },
    "papermill": {
     "duration": 2.252312,
     "end_time": "2022-08-10T05:51:04.682074",
     "exception": false,
     "start_time": "2022-08-10T05:51:02.429762",
     "status": "completed"
    },
    "tags": []
   },
   "outputs": [],
   "source": [
    "lr = LinearRegression(n_jobs = -1)\n",
    "\n",
    "lr_train_score, lr_test_score, lr_RMSE = parameter_finder(lr, {})\n"
   ]
  },
  {
   "cell_type": "code",
   "execution_count": null,
   "id": "14390963",
   "metadata": {
    "execution": {
     "iopub.execute_input": "2022-08-10T05:51:04.800616Z",
     "iopub.status.busy": "2022-08-10T05:51:04.800132Z",
     "iopub.status.idle": "2022-08-10T05:51:05.328719Z",
     "shell.execute_reply": "2022-08-10T05:51:05.326973Z"
    },
    "papermill": {
     "duration": 0.562024,
     "end_time": "2022-08-10T05:51:05.334245",
     "exception": false,
     "start_time": "2022-08-10T05:51:04.772221",
     "status": "completed"
    },
    "tags": []
   },
   "outputs": [],
   "source": [
    "ridge = Ridge(random_state = 1) \n",
    "param_ridge = {'alpha': [0.001, 0.01, 0.1, 1, 10]}\n",
    "\n",
    "ridge_train_score, ridge_test_score, ridge_RMSE = parameter_finder(ridge, param_ridge)\n"
   ]
  },
  {
   "cell_type": "code",
   "execution_count": null,
   "id": "47aec61e",
   "metadata": {
    "execution": {
     "iopub.execute_input": "2022-08-10T05:51:05.483321Z",
     "iopub.status.busy": "2022-08-10T05:51:05.482864Z",
     "iopub.status.idle": "2022-08-10T05:51:14.502366Z",
     "shell.execute_reply": "2022-08-10T05:51:14.500047Z"
    },
    "papermill": {
     "duration": 9.069871,
     "end_time": "2022-08-10T05:51:14.508198",
     "exception": false,
     "start_time": "2022-08-10T05:51:05.438327",
     "status": "completed"
    },
    "tags": []
   },
   "outputs": [],
   "source": [
    "lasso = Lasso(random_state = 1) \n",
    "param_lasso = {'alpha': [0.001, 0.01, 0.1, 1, 10]}\n",
    "\n",
    "lasso_train_score, lasso_test_score, lasso_RMSE = parameter_finder(lasso, param_lasso)"
   ]
  },
  {
   "cell_type": "code",
   "execution_count": null,
   "id": "31c889e6",
   "metadata": {
    "execution": {
     "iopub.execute_input": "2022-08-10T05:51:14.633050Z",
     "iopub.status.busy": "2022-08-10T05:51:14.632644Z",
     "iopub.status.idle": "2022-08-10T05:51:33.740440Z",
     "shell.execute_reply": "2022-08-10T05:51:33.738196Z"
    },
    "papermill": {
     "duration": 19.146397,
     "end_time": "2022-08-10T05:51:33.746233",
     "exception": false,
     "start_time": "2022-08-10T05:51:14.599836",
     "status": "completed"
    },
    "tags": []
   },
   "outputs": [],
   "source": [
    "eln = ElasticNet(random_state = 1) \n",
    "param_eln = {'alpha': [0.001, 0.01, 0.1, 1, 10],\n",
    "            'l1_ratio': [0.3, 0.4, 0.5, 0.6, 0.7]}\n",
    "\n",
    "eln_train_score, eln_test_score, eln_RMSE = parameter_finder(eln, param_eln)"
   ]
  },
  {
   "cell_type": "code",
   "execution_count": null,
   "id": "216ccf51",
   "metadata": {
    "execution": {
     "iopub.execute_input": "2022-08-10T05:51:33.879969Z",
     "iopub.status.busy": "2022-08-10T05:51:33.879339Z",
     "iopub.status.idle": "2022-08-10T05:51:34.859017Z",
     "shell.execute_reply": "2022-08-10T05:51:34.857526Z"
    },
    "papermill": {
     "duration": 1.015066,
     "end_time": "2022-08-10T05:51:34.863879",
     "exception": false,
     "start_time": "2022-08-10T05:51:33.848813",
     "status": "completed"
    },
    "tags": []
   },
   "outputs": [],
   "source": [
    "dtr = DecisionTreeRegressor(random_state = 1)\n",
    "param_dtr = {'min_samples_split': [2, 3, 4, 5],\n",
    "            'min_samples_leaf': [1, 2, 3]}\n",
    "\n",
    "dtr_train_score, dtr_test_score, dtr_RMSE = parameter_finder(dtr, param_dtr)"
   ]
  },
  {
   "cell_type": "code",
   "execution_count": null,
   "id": "fbad53c0",
   "metadata": {
    "execution": {
     "iopub.execute_input": "2022-08-10T05:51:34.925007Z",
     "iopub.status.busy": "2022-08-10T05:51:34.924254Z",
     "iopub.status.idle": "2022-08-10T05:52:10.427122Z",
     "shell.execute_reply": "2022-08-10T05:52:10.425681Z"
    },
    "papermill": {
     "duration": 35.562604,
     "end_time": "2022-08-10T05:52:10.458626",
     "exception": false,
     "start_time": "2022-08-10T05:51:34.896022",
     "status": "completed"
    },
    "tags": []
   },
   "outputs": [],
   "source": [
    "rfr = RandomForestRegressor(random_state = 1, n_jobs = -1)\n",
    "param_rfr = {'min_samples_split': [2, 3, 4, 5],\n",
    "            'min_samples_leaf': [1, 2, 3]}\n",
    "\n",
    "rfr_train_score, rfr_test_score, rfr_RMSE = parameter_finder(rfr, param_rfr)"
   ]
  },
  {
   "cell_type": "code",
   "execution_count": null,
   "id": "9f891e2f",
   "metadata": {
    "execution": {
     "iopub.execute_input": "2022-08-10T05:52:10.514595Z",
     "iopub.status.busy": "2022-08-10T05:52:10.514175Z",
     "iopub.status.idle": "2022-08-10T05:52:13.253593Z",
     "shell.execute_reply": "2022-08-10T05:52:13.252303Z"
    },
    "papermill": {
     "duration": 2.770125,
     "end_time": "2022-08-10T05:52:13.256050",
     "exception": false,
     "start_time": "2022-08-10T05:52:10.485925",
     "status": "completed"
    },
    "tags": []
   },
   "outputs": [],
   "source": [
    "knr = KNeighborsRegressor(n_jobs = -1)\n",
    "param_knr = {'n_neighbors': [5, 10, 15, 20],\n",
    "            'weights': ['uniform', 'distance']}\n",
    "\n",
    "knr_train_score, knr_test_score, knr_RMSE = parameter_finder(knr, param_knr)"
   ]
  },
  {
   "cell_type": "code",
   "execution_count": 61,
   "id": "f215cf8d",
   "metadata": {
    "execution": {
     "iopub.execute_input": "2022-08-10T05:52:13.525684Z",
     "iopub.status.busy": "2022-08-10T05:52:13.524334Z",
     "iopub.status.idle": "2022-08-10T05:53:48.154202Z",
     "shell.execute_reply": "2022-08-10T05:53:48.153315Z"
    },
    "papermill": {
     "duration": 94.687623,
     "end_time": "2022-08-10T05:53:48.183500",
     "exception": false,
     "start_time": "2022-08-10T05:52:13.495877",
     "status": "completed"
    },
    "tags": []
   },
   "outputs": [
    {
     "name": "stdout",
     "output_type": "stream",
     "text": [
      "The best parameters for XGBRegressor model is: {'colsample_bytree': 1, 'gamma': 0, 'learning_rate': 0.1, 'max_depth': 5, 'n_estimators': 300, 'subsample': 0.75}\n",
      "--------------------\n",
      "(R2 score) in the training set is 97.29% for XGBRegressor model.\n",
      "(R2 score) in the testing set is 76.72% for XGBRegressor model.\n",
      "RMSE is 4,491,956,678.004168 for XGBRegressor model.\n",
      "--------------------\n",
      "Runtime of the program is: 94.62\n"
     ]
    }
   ],
   "source": [
    "xgboost = XGBRegressor(n_jobs = -1)\n",
    "param_xgboost = {'n_estimators': [100,300],\n",
    "             'learning_rate': [0.1,0.05],\n",
    "             'subsample': [0.75],\n",
    "             'colsample_bytree': [1],\n",
    "             'max_depth': [3,4,5],\n",
    "             'gamma': [0]}\n",
    "\n",
    "xgboost_train_score, xgboost_test_score, xgboost_RMSE = parameter_finder(xgboost, param_xgboost)"
   ]
  },
  {
   "cell_type": "code",
   "execution_count": null,
   "id": "357e671f",
   "metadata": {
    "execution": {
     "iopub.execute_input": "2022-08-10T05:53:48.241411Z",
     "iopub.status.busy": "2022-08-10T05:53:48.240719Z",
     "iopub.status.idle": "2022-08-10T05:53:48.257764Z",
     "shell.execute_reply": "2022-08-10T05:53:48.256188Z"
    },
    "papermill": {
     "duration": 0.048823,
     "end_time": "2022-08-10T05:53:48.260490",
     "exception": false,
     "start_time": "2022-08-10T05:53:48.211667",
     "status": "completed"
    },
    "tags": []
   },
   "outputs": [],
   "source": [
    "models_score = pd.DataFrame({'Training score': [lr_train_score, ridge_train_score, lasso_train_score, eln_train_score, dtr_train_score, rfr_train_score, knr_train_score,xgboost_train_score],\n",
    "                             'Testing score': [lr_test_score, ridge_test_score, lasso_test_score, eln_test_score, dtr_test_score, rfr_test_score, knr_test_score,xgboost_test_score],\n",
    "                             'RMSE': [lr_RMSE, ridge_RMSE, lasso_RMSE, eln_RMSE, dtr_RMSE, rfr_RMSE, knr_RMSE,xgboost_RMSE]},\n",
    "                             index = ['LinearRegression', 'Ridge', 'Lasso','ElasticNet', 'DecisionTreeRegressor', 'RandomForestRegressor', 'KNeighborsRegressor','XGBoostRegressor'])\n",
    "\n",
    "models_score"
   ]
  },
  {
   "cell_type": "code",
   "execution_count": null,
   "id": "21360484",
   "metadata": {
    "execution": {
     "iopub.execute_input": "2022-08-10T05:53:48.318535Z",
     "iopub.status.busy": "2022-08-10T05:53:48.318085Z",
     "iopub.status.idle": "2022-08-10T05:53:48.869526Z",
     "shell.execute_reply": "2022-08-10T05:53:48.868538Z"
    },
    "papermill": {
     "duration": 0.583639,
     "end_time": "2022-08-10T05:53:48.871863",
     "exception": false,
     "start_time": "2022-08-10T05:53:48.288224",
     "status": "completed"
    },
    "tags": []
   },
   "outputs": [],
   "source": [
    "fig, ax = plt.subplots(figsize=(20,10))\n",
    "\n",
    "sns.set(style='white')\n",
    "\n",
    "ax.set_title(\"Camparison\", fontsize = 20)\n",
    "\n",
    "ax = sns.barplot(x = list(models_score.index), y = models_score['RMSE']/1000000000, alpha = 0.7, palette='Greens_r')\n",
    "\n",
    "ax.set_ylabel(\"RMSE\\n(billion tomans)\", fontsize = 20)\n",
    "\n",
    "sec_ax = ax.twinx()\n",
    "\n",
    "sec_ax = sns.lineplot(x = list(models_score.index), y = models_score['Training score'], linewidth = 3, color = 'blue')\n",
    "sec_ax = sns.scatterplot(x = list(models_score.index), y = models_score['Training score'], s = 200)\n",
    "\n",
    "sec_ax = sns.lineplot(x = list(models_score.index), y = models_score['Testing score'], linewidth = 3, color = 'red')\n",
    "sec_ax = sns.scatterplot(x = list(models_score.index), y = models_score['Testing score'], s = 200)\n",
    "\n",
    "sec_ax.set_ylabel(\"R2 scores\", fontsize = 20)\n",
    "\n",
    "sec_ax.legend(labels = ['Training score', 'Testing score'], fontsize = 20)\n",
    "\n",
    "\n",
    "sns.despine(offset = 10)\n",
    "\n",
    "plt.show()"
   ]
  },
  {
   "cell_type": "markdown",
   "id": "176b9aef",
   "metadata": {
    "papermill": {
     "duration": 0.028104,
     "end_time": "2022-08-10T05:53:48.929556",
     "exception": false,
     "start_time": "2022-08-10T05:53:48.901452",
     "status": "completed"
    },
    "tags": []
   },
   "source": [
    "# Save The Model"
   ]
  },
  {
   "cell_type": "code",
   "execution_count": 124,
   "id": "5afc0108",
   "metadata": {
    "execution": {
     "iopub.execute_input": "2022-08-10T05:53:48.988771Z",
     "iopub.status.busy": "2022-08-10T05:53:48.987420Z",
     "iopub.status.idle": "2022-08-10T05:53:48.992258Z",
     "shell.execute_reply": "2022-08-10T05:53:48.991318Z"
    },
    "papermill": {
     "duration": 0.03663,
     "end_time": "2022-08-10T05:53:48.994512",
     "exception": false,
     "start_time": "2022-08-10T05:53:48.957882",
     "status": "completed"
    },
    "tags": []
   },
   "outputs": [
    {
     "data": {
      "text/plain": [
       "['C:\\\\first project\\\\divar.joblib']"
      ]
     },
     "execution_count": 124,
     "metadata": {},
     "output_type": "execute_result"
    }
   ],
   "source": [
    "my_model = 'C:\\\\first project\\\\divar.joblib'\n",
    "joblib.dump(mlpipe1, my_model)"
   ]
  },
  {
   "cell_type": "code",
   "execution_count": 125,
   "id": "62d9e9f1",
   "metadata": {
    "execution": {
     "iopub.execute_input": "2022-08-10T05:53:49.053981Z",
     "iopub.status.busy": "2022-08-10T05:53:49.052842Z",
     "iopub.status.idle": "2022-08-10T05:53:49.057535Z",
     "shell.execute_reply": "2022-08-10T05:53:49.056679Z"
    },
    "papermill": {
     "duration": 0.037196,
     "end_time": "2022-08-10T05:53:49.059731",
     "exception": false,
     "start_time": "2022-08-10T05:53:49.022535",
     "status": "completed"
    },
    "tags": []
   },
   "outputs": [
    {
     "name": "stdout",
     "output_type": "stream",
     "text": [
      "[1.45000000e+09 1.51000000e+09 1.25200000e+09 1.84360000e+09\n",
      " 1.09920000e+10 3.21000000e+09 4.21000000e+09 5.72440000e+09\n",
      " 2.09000000e+09 2.54480000e+09 2.62000000e+10 2.04000000e+09\n",
      " 4.58000000e+08 2.47600000e+09 7.66120000e+09 3.01040000e+09\n",
      " 2.28050000e+10 3.94200000e+09 7.06000000e+09 9.48000000e+08\n",
      " 2.24800000e+09 3.49600000e+09 9.07600000e+08 3.73200000e+09\n",
      " 3.84000000e+09 8.11800000e+08 2.06400000e+09 5.17100000e+09\n",
      " 3.96600000e+09 1.47800000e+10 1.88400000e+10 4.79100000e+09\n",
      " 3.70000000e+08 7.33800000e+08 1.70200000e+09 1.29600000e+10\n",
      " 1.78000000e+09 2.37400000e+09 3.54000000e+09 5.09600000e+09\n",
      " 7.05160000e+09 1.30200000e+09 1.42500000e+09 1.02240000e+09\n",
      " 5.41100000e+08 7.33800000e+08 2.50600000e+09 3.37100000e+09\n",
      " 2.71000000e+09 5.22760000e+09 6.05000000e+08 9.55000000e+08\n",
      " 2.82000000e+09 9.58000000e+08 2.72180000e+09 5.29600000e+09\n",
      " 8.14000000e+09 1.72700000e+09 4.55140000e+09 1.84600000e+09\n",
      " 2.98800000e+09 2.51000000e+09 5.50000000e+09 2.04000000e+09\n",
      " 3.79200000e+09 7.65600000e+08 3.30000000e+09 2.44000000e+09\n",
      " 1.29300000e+09 1.00200000e+09 1.31680000e+10 7.92000000e+08\n",
      " 3.06000000e+09 1.67800000e+10 6.05000000e+08 1.99000000e+09\n",
      " 7.37220000e+09 4.14200000e+09 5.54800000e+09 3.68600000e+09\n",
      " 3.88000000e+08 1.90900000e+09 4.44000000e+09 2.52400000e+09\n",
      " 1.96200000e+09 9.40400000e+09 8.81000000e+08 1.17700000e+09\n",
      " 7.66120000e+09 3.88000000e+08 3.16740000e+09 3.13300000e+09\n",
      " 1.07754000e+09 1.20400000e+09 1.80600000e+09 3.48600000e+09\n",
      " 2.05500000e+10 4.65600000e+09 6.79280000e+09 2.38000000e+09\n",
      " 2.70220000e+09 5.54800000e+09 3.03000000e+10 4.09000000e+09\n",
      " 1.54000000e+09 3.35980000e+09 1.86200000e+09 3.55360000e+09\n",
      " 9.52500000e+09 2.78200000e+09 8.54400000e+08 1.49400000e+10\n",
      " 1.34200000e+10 2.55000000e+09 2.71000000e+09 2.08400000e+09\n",
      " 2.56200000e+09 3.66400000e+08 5.78000000e+09 9.52500000e+09\n",
      " 9.40400000e+08 1.41400000e+09 1.16200000e+10 5.51000000e+09\n",
      " 1.93000000e+09 6.70900000e+09 7.96000000e+09 2.27000000e+09\n",
      " 2.76700000e+09 6.80000000e+09 6.90000000e+08 1.69800000e+09\n",
      " 1.49200000e+09 2.28050000e+10 3.51978000e+10 7.10000000e+09\n",
      " 3.39100000e+09 1.34200000e+10 5.04600000e+09 2.29000000e+10\n",
      " 2.23700000e+09 1.26200000e+09 3.41800000e+09 6.35340000e+09\n",
      " 4.51600000e+09 6.40000000e+08 6.98000000e+09 2.34200000e+09\n",
      " 2.25230000e+10 2.56200000e+09 9.96000000e+09 7.50000000e+09\n",
      " 2.72000000e+08 3.03200000e+08 1.29240000e+09 6.04000000e+09\n",
      " 1.83500000e+09 5.39100000e+09 2.28050000e+10 2.08400000e+09\n",
      " 1.54900000e+10 3.35560000e+09 1.15944000e+09 6.72000000e+08\n",
      " 7.64000000e+09 7.00000000e+09 1.93400000e+09 2.74600000e+10\n",
      " 1.47200000e+09 2.76700000e+09 1.03760000e+09 2.23700000e+09\n",
      " 1.32100000e+10 6.48000000e+08 2.47600000e+09 1.45310000e+09\n",
      " 1.32386000e+10 1.61800000e+09 2.57680000e+10 4.04600000e+09\n",
      " 1.86200000e+09 2.81700000e+09 5.65400000e+09 2.86600000e+09\n",
      " 4.68200000e+09 1.11600000e+09 5.77000000e+09 1.03760000e+09\n",
      " 9.54300000e+09 2.96180000e+10 2.55800000e+09 3.74800000e+09\n",
      " 1.69820002e+09 1.39000000e+10 2.42400000e+09 1.20786000e+10\n",
      " 2.48440000e+09 3.80400000e+09 1.78800000e+10 2.05200000e+09\n",
      " 1.00620000e+09 3.13400000e+09 2.98000000e+09 2.47600000e+09\n",
      " 2.34000000e+10 1.23600000e+09 9.45000000e+09 2.04200000e+09\n",
      " 8.93400000e+09 2.06600000e+09 9.62000000e+08 9.62000000e+09\n",
      " 2.42000000e+09 5.46100000e+09 2.43400000e+09 2.51900000e+09\n",
      " 8.18000000e+09 1.17700000e+10 1.31800000e+09 5.67500000e+09\n",
      " 2.95000000e+09 6.69160000e+09 5.04600000e+09 3.23000000e+09\n",
      " 6.60000000e+09 1.22116000e+09 2.33400000e+09 5.43000000e+09\n",
      " 8.28000000e+08 1.08600000e+09 6.48000000e+08 2.90800000e+09\n",
      " 1.39800000e+10 3.49200000e+09 1.75600000e+09 1.19300000e+09\n",
      " 2.48000000e+09 6.05000000e+08 3.80400000e+09 2.27600000e+09\n",
      " 1.68000000e+09 1.16100000e+10 7.42400000e+08 2.74600000e+10\n",
      " 4.13100000e+09 8.11800000e+08 5.54800000e+09 1.19300000e+09\n",
      " 9.21000000e+08 2.97200000e+09 1.11860000e+10 1.01000000e+10\n",
      " 3.08800000e+09 3.02200000e+09 1.02400000e+10 8.53100000e+09\n",
      " 2.59300000e+09 2.42000000e+09 1.40700000e+10 1.40960000e+09\n",
      " 8.64960000e+09 4.79000000e+09 3.94200000e+09 2.15800000e+10\n",
      " 2.99400000e+09 6.44600000e+09 2.40020000e+09 1.17900000e+09\n",
      " 6.97000000e+09 1.25762000e+10 2.53000000e+09 3.80400000e+09\n",
      " 7.33800000e+08 3.53520000e+09 3.69200000e+09 1.36250000e+10\n",
      " 2.08800000e+09 9.68000000e+08 2.75400000e+09 3.63000000e+09\n",
      " 6.03600000e+08 3.03200000e+08 2.25230000e+10 2.31380000e+09\n",
      " 1.80200000e+09 3.28800000e+09 1.71800000e+10 3.30960000e+09\n",
      " 2.38400000e+10 8.10000000e+08 8.14000000e+09 3.13400000e+09\n",
      " 3.03000000e+10 2.82000000e+09 2.95760000e+09 1.94800000e+09\n",
      " 8.70000000e+09 1.55400000e+09 1.01180000e+09 1.14072000e+09\n",
      " 1.49540000e+09 9.30000000e+08 3.77000000e+08 8.24000000e+08\n",
      " 5.02800000e+08 2.35600000e+09 1.99800000e+09 1.10700000e+09\n",
      " 1.55710000e+10 2.27000000e+09 4.68600000e+08 2.10400000e+09\n",
      " 2.46800000e+09 6.05000000e+08 2.85000000e+09 3.39600000e+09\n",
      " 2.28600000e+09 1.40100000e+09 8.94000000e+09 3.17600000e+09\n",
      " 2.17600000e+09 1.12400000e+10 8.64400000e+08 1.08960000e+09\n",
      " 6.48000000e+08 2.48440000e+09 2.18000000e+09 2.94600000e+09\n",
      " 9.35600000e+08 8.85000000e+08 4.46200000e+09 4.26000000e+09\n",
      " 1.23600000e+09 9.62000000e+09 1.01914000e+09 2.28600000e+09\n",
      " 9.31000000e+08 5.18000000e+09 1.51000000e+09 2.56200000e+09\n",
      " 3.67000000e+09 2.29200000e+09 2.28600000e+09 1.05584000e+10\n",
      " 3.79200000e+09 1.15000000e+10 2.73600000e+09 2.96180000e+10\n",
      " 2.33400000e+09 1.28000000e+09 2.24000000e+09 4.44000000e+09\n",
      " 3.60780000e+09 5.86000000e+08 3.66400000e+08 2.81930000e+10\n",
      " 2.75600000e+09 2.21240000e+09 8.69000000e+09 2.34300000e+09\n",
      " 8.90800000e+09 4.00400000e+09 1.15900000e+09 5.29000000e+09\n",
      " 4.23200000e+09 3.86600000e+09 3.75000000e+09 1.16600000e+10\n",
      " 1.88800000e+09 1.44000000e+10 2.61000000e+08 2.85000000e+09\n",
      " 3.75000000e+09 3.13200000e+09 3.08000000e+09 2.04000000e+09\n",
      " 1.67800000e+10 4.44000000e+09 6.97000000e+09 1.71050000e+09\n",
      " 2.47600000e+09 6.69160000e+09 2.71000000e+09 1.74300000e+10\n",
      " 3.42800000e+09 2.07000000e+09 7.42400000e+08 2.11200000e+09\n",
      " 2.42000000e+09 4.76000000e+08 5.78000000e+08 8.81200000e+09\n",
      " 1.34460000e+10 1.44000000e+10 1.72600000e+09 2.28600000e+09\n",
      " 4.28000000e+09 1.85790000e+09 2.48000000e+09 7.33800000e+08\n",
      " 2.27200000e+09 3.65000000e+09 1.93000000e+09 8.75600000e+08\n",
      " 9.99200000e+09 5.39100000e+09 2.11060000e+09 8.14000000e+09\n",
      " 4.79000000e+09 4.28100000e+09 4.22000000e+09 1.15900000e+09\n",
      " 1.33100000e+10 4.07000000e+09 6.40000000e+08 1.37000000e+09\n",
      " 1.66400000e+09 2.04500000e+10 4.38600000e+09 2.20000000e+09\n",
      " 4.01000000e+08 5.78000000e+09 2.44800000e+09 1.36400000e+09\n",
      " 1.18200000e+09 1.01880000e+10 2.13000000e+09 1.74300000e+10\n",
      " 3.20000000e+09 1.69820002e+09 8.14000000e+09 1.99000000e+09\n",
      " 4.83800000e+09 9.54300000e+09 3.48600000e+09 1.01060000e+10\n",
      " 6.32000000e+09 2.62600000e+09 4.26000000e+09 1.03200000e+09\n",
      " 2.82000000e+09 1.06800000e+10 2.49400000e+09 4.91000000e+08\n",
      " 2.25230000e+10 3.13300000e+09 2.11200000e+09 1.88400000e+10\n",
      " 6.03800000e+09 2.27200000e+09 5.02800000e+08 4.30600000e+09\n",
      " 1.20000000e+09 2.07600000e+09 6.36040000e+09 1.34828000e+10\n",
      " 4.88400000e+09 2.28050000e+10 6.48000000e+08 1.10600000e+10\n",
      " 1.07200000e+09 4.18000000e+09 3.47000000e+10 4.01000000e+08\n",
      " 1.07000000e+10 4.10320000e+09 4.52400000e+09 1.71800000e+10\n",
      " 8.98560000e+08 3.56000000e+09 1.74120000e+10 2.34400000e+09\n",
      " 9.96000000e+09 5.04600000e+09 6.77600000e+09 4.59000000e+08\n",
      " 3.38000000e+09 1.73600000e+09 4.21000000e+09 2.34760000e+09\n",
      " 4.03600000e+09 3.22000000e+09 2.04000000e+09 1.48880000e+09\n",
      " 4.58960000e+09 6.88000000e+08 6.88000000e+08 2.73000000e+09\n",
      " 3.30000000e+09 3.60800000e+09 1.06000000e+09 3.93140000e+09\n",
      " 3.74800000e+09 3.58200000e+09 2.81720000e+10 9.74500000e+09\n",
      " 1.13700000e+09 4.89200000e+09 4.65600000e+09 1.89000000e+09\n",
      " 2.07800000e+09 7.06000000e+09 2.81930000e+10 5.28000000e+08\n",
      " 1.70200000e+09 7.00000000e+09 8.82200000e+08 2.81930000e+10\n",
      " 1.32000000e+09 4.31000000e+09 4.92000000e+09 3.47000000e+10\n",
      " 4.81600000e+09 1.49200000e+09 4.16000000e+08 2.71000000e+09\n",
      " 2.05500000e+10 6.13000000e+09 1.10000000e+09 3.39800000e+09\n",
      " 5.05000000e+09 2.02400000e+09 9.46000000e+09 1.59591000e+09\n",
      " 1.68000000e+09 3.08800000e+09 1.05100000e+09 8.40000000e+09\n",
      " 1.31380000e+09 7.35100000e+09 3.43800000e+09 1.77460000e+09\n",
      " 8.93400000e+09 9.54300000e+09 3.59200000e+09 1.93000000e+09\n",
      " 1.73210000e+10 6.60000000e+09 1.31800000e+09 7.26000000e+09\n",
      " 3.69300000e+09 2.28200000e+09 1.29600000e+10 1.41400000e+09\n",
      " 1.87200000e+09 4.21600000e+09 1.14664000e+10 3.03200000e+08\n",
      " 1.31680000e+10 1.66910000e+10 2.07600000e+09 8.36000000e+08\n",
      " 2.81540000e+09 9.86200000e+08 3.00800000e+09 4.65000000e+09\n",
      " 6.60000000e+09 2.10400000e+09 3.86600000e+09 7.92000000e+08\n",
      " 1.16550000e+09 3.34600000e+09 1.86200000e+09 2.68600000e+09\n",
      " 3.88000000e+09 1.54600000e+09 4.23200000e+09 4.14200000e+09\n",
      " 3.76500000e+09 2.28200000e+09 2.03200000e+09 5.30540000e+09\n",
      " 9.28200000e+08 3.13400000e+09 2.56600000e+09 1.93600000e+09\n",
      " 7.85300000e+09 9.06000000e+08 2.19800000e+09 3.61400000e+08\n",
      " 5.02000000e+09 3.82000000e+09 1.88400000e+10 1.28200000e+09\n",
      " 1.57400000e+09 8.93400000e+09 4.59000000e+08 7.73000000e+09\n",
      " 2.44940000e+10 5.00000000e+09 1.64900000e+09 1.00040000e+09\n",
      " 4.15600000e+09 5.56640000e+09 1.54486000e+10 2.95000000e+09\n",
      " 1.03100000e+09 6.90000000e+08 2.86400000e+09 4.11200000e+10\n",
      " 2.68600000e+09 2.27600000e+09 4.96600000e+09 5.98600000e+09\n",
      " 3.02000000e+09 3.65000000e+09 5.44000000e+08 6.47800000e+09\n",
      " 4.07600000e+09 7.33800000e+08 2.44600000e+10 8.49600000e+08\n",
      " 3.56100000e+09 1.49540000e+09 1.31380000e+09 1.15890000e+10\n",
      " 5.78000000e+09 2.13000000e+09 2.44000000e+09 3.00800000e+09\n",
      " 7.30600000e+09 9.56400000e+08 6.62000000e+08 5.71880000e+09\n",
      " 1.69820002e+09 2.10800000e+09 8.45000000e+09 1.71260000e+09\n",
      " 6.13000000e+09 5.78000000e+08 2.28200000e+09 1.85200000e+09\n",
      " 7.66120000e+09 2.06800000e+09 7.08000000e+08 7.00000000e+08\n",
      " 1.20000000e+10 1.47200000e+09 1.48600000e+09 2.71400000e+09\n",
      " 2.45600000e+09 2.47600000e+09 1.08050000e+10 5.46100000e+09\n",
      " 2.48200000e+09 3.61600000e+09 4.04600000e+09 3.80000000e+09\n",
      " 2.46000000e+09 2.51500000e+09 1.34460000e+10 2.54480000e+09\n",
      " 1.66910000e+10 1.47200000e+09 1.73210000e+10 7.82400000e+08\n",
      " 3.74600000e+09 8.28000000e+09 1.31800000e+09 7.96000000e+09\n",
      " 1.33260000e+10 1.49540000e+09 2.00200000e+09 3.03000000e+10\n",
      " 1.01000000e+10 1.15628000e+10 9.06000000e+09 7.06000000e+09\n",
      " 4.30000000e+09 1.13800000e+09 4.81600000e+09 6.89800000e+08\n",
      " 5.14000000e+09 2.35000000e+09 5.18000000e+09 3.87400000e+09\n",
      " 4.93600000e+09 3.14800000e+09 1.33650000e+10 1.89000000e+09\n",
      " 1.57400000e+09 2.28600000e+09 3.45000000e+08 2.07200000e+09\n",
      " 1.41400000e+09 3.41800000e+09 7.38000000e+09 3.16740000e+09\n",
      " 3.26400000e+09 2.23700000e+09 8.03600000e+08 3.30000000e+09]\n"
     ]
    }
   ],
   "source": [
    "loaded_model = joblib.load('C:\\\\first project\\\\divar.joblib')\n",
    "result = loaded_model.predict(X_test)\n",
    "print(result)"
   ]
  },
  {
   "cell_type": "code",
   "execution_count": 132,
   "id": "4e7bf591",
   "metadata": {},
   "outputs": [],
   "source": [
    "row = np.array([150, 2, 1, 0, 0, 'Yousef Abad'])\n",
    "X = pd.DataFrame([row], columns=['Area', 'Room', 'Parking', 'Warehouse', 'Elevator', 'Address'])\n",
    "predictionss = loaded_model.predict(X)"
   ]
  },
  {
   "cell_type": "code",
   "execution_count": 133,
   "id": "195c644a",
   "metadata": {},
   "outputs": [
    {
     "data": {
      "text/plain": [
       "array([7.026e+09])"
      ]
     },
     "execution_count": 133,
     "metadata": {},
     "output_type": "execute_result"
    }
   ],
   "source": [
    "predictionss"
   ]
  },
  {
   "cell_type": "code",
   "execution_count": null,
   "id": "36211c9a",
   "metadata": {},
   "outputs": [],
   "source": []
  }
 ],
 "metadata": {
  "kernelspec": {
   "display_name": "Python 3 (ipykernel)",
   "language": "python",
   "name": "python3"
  },
  "language_info": {
   "codemirror_mode": {
    "name": "ipython",
    "version": 3
   },
   "file_extension": ".py",
   "mimetype": "text/x-python",
   "name": "python",
   "nbconvert_exporter": "python",
   "pygments_lexer": "ipython3",
   "version": "3.11.3"
  },
  "papermill": {
   "default_parameters": {},
   "duration": 186.634179,
   "end_time": "2022-08-10T05:53:51.711178",
   "environment_variables": {},
   "exception": null,
   "input_path": "__notebook__.ipynb",
   "output_path": "__notebook__.ipynb",
   "parameters": {},
   "start_time": "2022-08-10T05:50:45.076999",
   "version": "2.3.4"
  }
 },
 "nbformat": 4,
 "nbformat_minor": 5
}
